{
 "cells": [
  {
   "cell_type": "code",
   "execution_count": 13,
   "id": "fc9275e4",
   "metadata": {
    "ExecuteTime": {
     "end_time": "2021-10-19T03:59:45.649379Z",
     "start_time": "2021-10-19T03:59:45.643376Z"
    }
   },
   "outputs": [],
   "source": [
    "import numpy as np\n",
    "import pandas as pd\n",
    "import seaborn as sns\n",
    "import matplotlib.pyplot as plt\n",
    "import plotly.express as px\n",
    "import plotly.graph_objects as go\n",
    "import warnings\n",
    "warnings.filterwarnings('ignore')"
   ]
  },
  {
   "cell_type": "code",
   "execution_count": 2,
   "id": "002b9369",
   "metadata": {
    "ExecuteTime": {
     "end_time": "2021-10-19T03:55:38.106368Z",
     "start_time": "2021-10-19T03:55:37.630343Z"
    }
   },
   "outputs": [],
   "source": [
    "# delivery data\n",
    "delivery_data = pd.read_csv('deliveries.csv')\n",
    "\n",
    "# IPL match data\n",
    "match_data = pd.read_csv('matches.csv')"
   ]
  },
  {
   "cell_type": "code",
   "execution_count": 3,
   "id": "6b962fe3",
   "metadata": {
    "ExecuteTime": {
     "end_time": "2021-10-19T03:55:48.712905Z",
     "start_time": "2021-10-19T03:55:48.635851Z"
    }
   },
   "outputs": [
    {
     "data": {
      "text/html": [
       "<div>\n",
       "<style scoped>\n",
       "    .dataframe tbody tr th:only-of-type {\n",
       "        vertical-align: middle;\n",
       "    }\n",
       "\n",
       "    .dataframe tbody tr th {\n",
       "        vertical-align: top;\n",
       "    }\n",
       "\n",
       "    .dataframe thead th {\n",
       "        text-align: right;\n",
       "    }\n",
       "</style>\n",
       "<table border=\"1\" class=\"dataframe\">\n",
       "  <thead>\n",
       "    <tr style=\"text-align: right;\">\n",
       "      <th></th>\n",
       "      <th>match_id</th>\n",
       "      <th>inning</th>\n",
       "      <th>batting_team</th>\n",
       "      <th>bowling_team</th>\n",
       "      <th>over</th>\n",
       "      <th>ball</th>\n",
       "      <th>batsman</th>\n",
       "      <th>non_striker</th>\n",
       "      <th>bowler</th>\n",
       "      <th>is_super_over</th>\n",
       "      <th>...</th>\n",
       "      <th>bye_runs</th>\n",
       "      <th>legbye_runs</th>\n",
       "      <th>noball_runs</th>\n",
       "      <th>penalty_runs</th>\n",
       "      <th>batsman_runs</th>\n",
       "      <th>extra_runs</th>\n",
       "      <th>total_runs</th>\n",
       "      <th>player_dismissed</th>\n",
       "      <th>dismissal_kind</th>\n",
       "      <th>fielder</th>\n",
       "    </tr>\n",
       "  </thead>\n",
       "  <tbody>\n",
       "    <tr>\n",
       "      <th>0</th>\n",
       "      <td>1</td>\n",
       "      <td>1</td>\n",
       "      <td>Kolkata Knight Riders</td>\n",
       "      <td>Royal Challengers Bangalore</td>\n",
       "      <td>1</td>\n",
       "      <td>1</td>\n",
       "      <td>SC Ganguly</td>\n",
       "      <td>BB McCullum</td>\n",
       "      <td>P Kumar</td>\n",
       "      <td>0</td>\n",
       "      <td>...</td>\n",
       "      <td>0</td>\n",
       "      <td>1</td>\n",
       "      <td>0</td>\n",
       "      <td>0</td>\n",
       "      <td>0</td>\n",
       "      <td>1</td>\n",
       "      <td>1</td>\n",
       "      <td>NaN</td>\n",
       "      <td>NaN</td>\n",
       "      <td>NaN</td>\n",
       "    </tr>\n",
       "    <tr>\n",
       "      <th>1</th>\n",
       "      <td>1</td>\n",
       "      <td>1</td>\n",
       "      <td>Kolkata Knight Riders</td>\n",
       "      <td>Royal Challengers Bangalore</td>\n",
       "      <td>1</td>\n",
       "      <td>2</td>\n",
       "      <td>BB McCullum</td>\n",
       "      <td>SC Ganguly</td>\n",
       "      <td>P Kumar</td>\n",
       "      <td>0</td>\n",
       "      <td>...</td>\n",
       "      <td>0</td>\n",
       "      <td>0</td>\n",
       "      <td>0</td>\n",
       "      <td>0</td>\n",
       "      <td>0</td>\n",
       "      <td>0</td>\n",
       "      <td>0</td>\n",
       "      <td>NaN</td>\n",
       "      <td>NaN</td>\n",
       "      <td>NaN</td>\n",
       "    </tr>\n",
       "    <tr>\n",
       "      <th>2</th>\n",
       "      <td>1</td>\n",
       "      <td>1</td>\n",
       "      <td>Kolkata Knight Riders</td>\n",
       "      <td>Royal Challengers Bangalore</td>\n",
       "      <td>1</td>\n",
       "      <td>3</td>\n",
       "      <td>BB McCullum</td>\n",
       "      <td>SC Ganguly</td>\n",
       "      <td>P Kumar</td>\n",
       "      <td>0</td>\n",
       "      <td>...</td>\n",
       "      <td>0</td>\n",
       "      <td>0</td>\n",
       "      <td>0</td>\n",
       "      <td>0</td>\n",
       "      <td>0</td>\n",
       "      <td>1</td>\n",
       "      <td>1</td>\n",
       "      <td>NaN</td>\n",
       "      <td>NaN</td>\n",
       "      <td>NaN</td>\n",
       "    </tr>\n",
       "    <tr>\n",
       "      <th>3</th>\n",
       "      <td>1</td>\n",
       "      <td>1</td>\n",
       "      <td>Kolkata Knight Riders</td>\n",
       "      <td>Royal Challengers Bangalore</td>\n",
       "      <td>1</td>\n",
       "      <td>4</td>\n",
       "      <td>BB McCullum</td>\n",
       "      <td>SC Ganguly</td>\n",
       "      <td>P Kumar</td>\n",
       "      <td>0</td>\n",
       "      <td>...</td>\n",
       "      <td>0</td>\n",
       "      <td>0</td>\n",
       "      <td>0</td>\n",
       "      <td>0</td>\n",
       "      <td>0</td>\n",
       "      <td>0</td>\n",
       "      <td>0</td>\n",
       "      <td>NaN</td>\n",
       "      <td>NaN</td>\n",
       "      <td>NaN</td>\n",
       "    </tr>\n",
       "    <tr>\n",
       "      <th>4</th>\n",
       "      <td>1</td>\n",
       "      <td>1</td>\n",
       "      <td>Kolkata Knight Riders</td>\n",
       "      <td>Royal Challengers Bangalore</td>\n",
       "      <td>1</td>\n",
       "      <td>5</td>\n",
       "      <td>BB McCullum</td>\n",
       "      <td>SC Ganguly</td>\n",
       "      <td>P Kumar</td>\n",
       "      <td>0</td>\n",
       "      <td>...</td>\n",
       "      <td>0</td>\n",
       "      <td>0</td>\n",
       "      <td>0</td>\n",
       "      <td>0</td>\n",
       "      <td>0</td>\n",
       "      <td>0</td>\n",
       "      <td>0</td>\n",
       "      <td>NaN</td>\n",
       "      <td>NaN</td>\n",
       "      <td>NaN</td>\n",
       "    </tr>\n",
       "  </tbody>\n",
       "</table>\n",
       "<p>5 rows × 21 columns</p>\n",
       "</div>"
      ],
      "text/plain": [
       "   match_id  inning           batting_team                 bowling_team  over  \\\n",
       "0         1       1  Kolkata Knight Riders  Royal Challengers Bangalore     1   \n",
       "1         1       1  Kolkata Knight Riders  Royal Challengers Bangalore     1   \n",
       "2         1       1  Kolkata Knight Riders  Royal Challengers Bangalore     1   \n",
       "3         1       1  Kolkata Knight Riders  Royal Challengers Bangalore     1   \n",
       "4         1       1  Kolkata Knight Riders  Royal Challengers Bangalore     1   \n",
       "\n",
       "   ball      batsman  non_striker   bowler  is_super_over  ...  bye_runs  \\\n",
       "0     1   SC Ganguly  BB McCullum  P Kumar              0  ...         0   \n",
       "1     2  BB McCullum   SC Ganguly  P Kumar              0  ...         0   \n",
       "2     3  BB McCullum   SC Ganguly  P Kumar              0  ...         0   \n",
       "3     4  BB McCullum   SC Ganguly  P Kumar              0  ...         0   \n",
       "4     5  BB McCullum   SC Ganguly  P Kumar              0  ...         0   \n",
       "\n",
       "   legbye_runs  noball_runs  penalty_runs  batsman_runs  extra_runs  \\\n",
       "0            1            0             0             0           1   \n",
       "1            0            0             0             0           0   \n",
       "2            0            0             0             0           1   \n",
       "3            0            0             0             0           0   \n",
       "4            0            0             0             0           0   \n",
       "\n",
       "   total_runs  player_dismissed dismissal_kind fielder  \n",
       "0           1               NaN            NaN     NaN  \n",
       "1           0               NaN            NaN     NaN  \n",
       "2           1               NaN            NaN     NaN  \n",
       "3           0               NaN            NaN     NaN  \n",
       "4           0               NaN            NaN     NaN  \n",
       "\n",
       "[5 rows x 21 columns]"
      ]
     },
     "execution_count": 3,
     "metadata": {},
     "output_type": "execute_result"
    }
   ],
   "source": [
    "delivery_data.head()"
   ]
  },
  {
   "cell_type": "code",
   "execution_count": 4,
   "id": "275c1ec0",
   "metadata": {
    "ExecuteTime": {
     "end_time": "2021-10-19T03:56:00.504060Z",
     "start_time": "2021-10-19T03:56:00.479063Z"
    }
   },
   "outputs": [
    {
     "data": {
      "text/html": [
       "<div>\n",
       "<style scoped>\n",
       "    .dataframe tbody tr th:only-of-type {\n",
       "        vertical-align: middle;\n",
       "    }\n",
       "\n",
       "    .dataframe tbody tr th {\n",
       "        vertical-align: top;\n",
       "    }\n",
       "\n",
       "    .dataframe thead th {\n",
       "        text-align: right;\n",
       "    }\n",
       "</style>\n",
       "<table border=\"1\" class=\"dataframe\">\n",
       "  <thead>\n",
       "    <tr style=\"text-align: right;\">\n",
       "      <th></th>\n",
       "      <th>id</th>\n",
       "      <th>season</th>\n",
       "      <th>city</th>\n",
       "      <th>date</th>\n",
       "      <th>team1</th>\n",
       "      <th>team2</th>\n",
       "      <th>toss_winner</th>\n",
       "      <th>toss_decision</th>\n",
       "      <th>result</th>\n",
       "      <th>dl_applied</th>\n",
       "      <th>winner</th>\n",
       "      <th>win_by_runs</th>\n",
       "      <th>win_by_wickets</th>\n",
       "      <th>player_of_match</th>\n",
       "      <th>venue</th>\n",
       "      <th>umpire1</th>\n",
       "      <th>umpire2</th>\n",
       "      <th>umpire3</th>\n",
       "    </tr>\n",
       "  </thead>\n",
       "  <tbody>\n",
       "    <tr>\n",
       "      <th>0</th>\n",
       "      <td>1</td>\n",
       "      <td>2008</td>\n",
       "      <td>Bangalore</td>\n",
       "      <td>2008-04-18</td>\n",
       "      <td>Kolkata Knight Riders</td>\n",
       "      <td>Royal Challengers Bangalore</td>\n",
       "      <td>Royal Challengers Bangalore</td>\n",
       "      <td>field</td>\n",
       "      <td>normal</td>\n",
       "      <td>0</td>\n",
       "      <td>Kolkata Knight Riders</td>\n",
       "      <td>140</td>\n",
       "      <td>0</td>\n",
       "      <td>BB McCullum</td>\n",
       "      <td>M Chinnaswamy Stadium</td>\n",
       "      <td>Asad Rauf</td>\n",
       "      <td>RE Koertzen</td>\n",
       "      <td>NaN</td>\n",
       "    </tr>\n",
       "    <tr>\n",
       "      <th>1</th>\n",
       "      <td>2</td>\n",
       "      <td>2008</td>\n",
       "      <td>Chandigarh</td>\n",
       "      <td>2008-04-19</td>\n",
       "      <td>Chennai Super Kings</td>\n",
       "      <td>Kings XI Punjab</td>\n",
       "      <td>Chennai Super Kings</td>\n",
       "      <td>bat</td>\n",
       "      <td>normal</td>\n",
       "      <td>0</td>\n",
       "      <td>Chennai Super Kings</td>\n",
       "      <td>33</td>\n",
       "      <td>0</td>\n",
       "      <td>MEK Hussey</td>\n",
       "      <td>Punjab Cricket Association Stadium, Mohali</td>\n",
       "      <td>MR Benson</td>\n",
       "      <td>SL Shastri</td>\n",
       "      <td>NaN</td>\n",
       "    </tr>\n",
       "    <tr>\n",
       "      <th>2</th>\n",
       "      <td>3</td>\n",
       "      <td>2008</td>\n",
       "      <td>Delhi</td>\n",
       "      <td>2008-04-19</td>\n",
       "      <td>Rajasthan Royals</td>\n",
       "      <td>Delhi Daredevils</td>\n",
       "      <td>Rajasthan Royals</td>\n",
       "      <td>bat</td>\n",
       "      <td>normal</td>\n",
       "      <td>0</td>\n",
       "      <td>Delhi Daredevils</td>\n",
       "      <td>0</td>\n",
       "      <td>9</td>\n",
       "      <td>MF Maharoof</td>\n",
       "      <td>Feroz Shah Kotla</td>\n",
       "      <td>Aleem Dar</td>\n",
       "      <td>GA Pratapkumar</td>\n",
       "      <td>NaN</td>\n",
       "    </tr>\n",
       "    <tr>\n",
       "      <th>3</th>\n",
       "      <td>4</td>\n",
       "      <td>2008</td>\n",
       "      <td>Mumbai</td>\n",
       "      <td>2008-04-20</td>\n",
       "      <td>Mumbai Indians</td>\n",
       "      <td>Royal Challengers Bangalore</td>\n",
       "      <td>Mumbai Indians</td>\n",
       "      <td>bat</td>\n",
       "      <td>normal</td>\n",
       "      <td>0</td>\n",
       "      <td>Royal Challengers Bangalore</td>\n",
       "      <td>0</td>\n",
       "      <td>5</td>\n",
       "      <td>MV Boucher</td>\n",
       "      <td>Wankhede Stadium</td>\n",
       "      <td>SJ Davis</td>\n",
       "      <td>DJ Harper</td>\n",
       "      <td>NaN</td>\n",
       "    </tr>\n",
       "    <tr>\n",
       "      <th>4</th>\n",
       "      <td>5</td>\n",
       "      <td>2008</td>\n",
       "      <td>Kolkata</td>\n",
       "      <td>2008-04-20</td>\n",
       "      <td>Deccan Chargers</td>\n",
       "      <td>Kolkata Knight Riders</td>\n",
       "      <td>Deccan Chargers</td>\n",
       "      <td>bat</td>\n",
       "      <td>normal</td>\n",
       "      <td>0</td>\n",
       "      <td>Kolkata Knight Riders</td>\n",
       "      <td>0</td>\n",
       "      <td>5</td>\n",
       "      <td>DJ Hussey</td>\n",
       "      <td>Eden Gardens</td>\n",
       "      <td>BF Bowden</td>\n",
       "      <td>K Hariharan</td>\n",
       "      <td>NaN</td>\n",
       "    </tr>\n",
       "  </tbody>\n",
       "</table>\n",
       "</div>"
      ],
      "text/plain": [
       "   id  season        city        date                  team1  \\\n",
       "0   1    2008   Bangalore  2008-04-18  Kolkata Knight Riders   \n",
       "1   2    2008  Chandigarh  2008-04-19    Chennai Super Kings   \n",
       "2   3    2008       Delhi  2008-04-19       Rajasthan Royals   \n",
       "3   4    2008      Mumbai  2008-04-20         Mumbai Indians   \n",
       "4   5    2008     Kolkata  2008-04-20        Deccan Chargers   \n",
       "\n",
       "                         team2                  toss_winner toss_decision  \\\n",
       "0  Royal Challengers Bangalore  Royal Challengers Bangalore         field   \n",
       "1              Kings XI Punjab          Chennai Super Kings           bat   \n",
       "2             Delhi Daredevils             Rajasthan Royals           bat   \n",
       "3  Royal Challengers Bangalore               Mumbai Indians           bat   \n",
       "4        Kolkata Knight Riders              Deccan Chargers           bat   \n",
       "\n",
       "   result  dl_applied                       winner  win_by_runs  \\\n",
       "0  normal           0        Kolkata Knight Riders          140   \n",
       "1  normal           0          Chennai Super Kings           33   \n",
       "2  normal           0             Delhi Daredevils            0   \n",
       "3  normal           0  Royal Challengers Bangalore            0   \n",
       "4  normal           0        Kolkata Knight Riders            0   \n",
       "\n",
       "   win_by_wickets player_of_match                                       venue  \\\n",
       "0               0     BB McCullum                       M Chinnaswamy Stadium   \n",
       "1               0      MEK Hussey  Punjab Cricket Association Stadium, Mohali   \n",
       "2               9     MF Maharoof                            Feroz Shah Kotla   \n",
       "3               5      MV Boucher                            Wankhede Stadium   \n",
       "4               5       DJ Hussey                                Eden Gardens   \n",
       "\n",
       "     umpire1         umpire2  umpire3  \n",
       "0  Asad Rauf     RE Koertzen      NaN  \n",
       "1  MR Benson      SL Shastri      NaN  \n",
       "2  Aleem Dar  GA Pratapkumar      NaN  \n",
       "3   SJ Davis       DJ Harper      NaN  \n",
       "4  BF Bowden     K Hariharan      NaN  "
      ]
     },
     "execution_count": 4,
     "metadata": {},
     "output_type": "execute_result"
    }
   ],
   "source": [
    "match_data.head()"
   ]
  },
  {
   "cell_type": "code",
   "execution_count": 5,
   "id": "bcbcddd7",
   "metadata": {
    "ExecuteTime": {
     "end_time": "2021-10-19T03:56:25.127989Z",
     "start_time": "2021-10-19T03:56:25.122985Z"
    }
   },
   "outputs": [
    {
     "name": "stdout",
     "output_type": "stream",
     "text": [
      "Biggest Win Margin was 144 runs.\n"
     ]
    }
   ],
   "source": [
    "# Stats\n",
    "biggest_win = match_data['win_by_runs'].max()\n",
    "print(\"Biggest Win Margin was \" + str(biggest_win) + \" runs.\")\n",
    "\n",
    "teams_biggest_win = []"
   ]
  },
  {
   "cell_type": "code",
   "execution_count": 6,
   "id": "97a56b55",
   "metadata": {
    "ExecuteTime": {
     "end_time": "2021-10-19T03:56:54.568583Z",
     "start_time": "2021-10-19T03:56:54.545547Z"
    }
   },
   "outputs": [
    {
     "data": {
      "text/html": [
       "<div>\n",
       "<style scoped>\n",
       "    .dataframe tbody tr th:only-of-type {\n",
       "        vertical-align: middle;\n",
       "    }\n",
       "\n",
       "    .dataframe tbody tr th {\n",
       "        vertical-align: top;\n",
       "    }\n",
       "\n",
       "    .dataframe thead th {\n",
       "        text-align: right;\n",
       "    }\n",
       "</style>\n",
       "<table border=\"1\" class=\"dataframe\">\n",
       "  <thead>\n",
       "    <tr style=\"text-align: right;\">\n",
       "      <th></th>\n",
       "      <th>id</th>\n",
       "      <th>season</th>\n",
       "      <th>city</th>\n",
       "      <th>date</th>\n",
       "      <th>team1</th>\n",
       "      <th>team2</th>\n",
       "      <th>toss_winner</th>\n",
       "      <th>toss_decision</th>\n",
       "      <th>result</th>\n",
       "      <th>dl_applied</th>\n",
       "      <th>winner</th>\n",
       "      <th>win_by_runs</th>\n",
       "      <th>win_by_wickets</th>\n",
       "      <th>player_of_match</th>\n",
       "      <th>venue</th>\n",
       "      <th>umpire1</th>\n",
       "      <th>umpire2</th>\n",
       "      <th>umpire3</th>\n",
       "    </tr>\n",
       "  </thead>\n",
       "  <tbody>\n",
       "    <tr>\n",
       "      <th>560</th>\n",
       "      <td>561</td>\n",
       "      <td>2016</td>\n",
       "      <td>Bangalore</td>\n",
       "      <td>2016-05-14</td>\n",
       "      <td>Royal Challengers Bangalore</td>\n",
       "      <td>Gujarat Lions</td>\n",
       "      <td>Gujarat Lions</td>\n",
       "      <td>field</td>\n",
       "      <td>normal</td>\n",
       "      <td>0</td>\n",
       "      <td>Royal Challengers Bangalore</td>\n",
       "      <td>144</td>\n",
       "      <td>0</td>\n",
       "      <td>AB de Villiers</td>\n",
       "      <td>M Chinnaswamy Stadium</td>\n",
       "      <td>AY Dandekar</td>\n",
       "      <td>VK Sharma</td>\n",
       "      <td>NaN</td>\n",
       "    </tr>\n",
       "  </tbody>\n",
       "</table>\n",
       "</div>"
      ],
      "text/plain": [
       "      id  season       city        date                        team1  \\\n",
       "560  561    2016  Bangalore  2016-05-14  Royal Challengers Bangalore   \n",
       "\n",
       "             team2    toss_winner toss_decision  result  dl_applied  \\\n",
       "560  Gujarat Lions  Gujarat Lions         field  normal           0   \n",
       "\n",
       "                          winner  win_by_runs  win_by_wickets player_of_match  \\\n",
       "560  Royal Challengers Bangalore          144               0  AB de Villiers   \n",
       "\n",
       "                     venue      umpire1    umpire2  umpire3  \n",
       "560  M Chinnaswamy Stadium  AY Dandekar  VK Sharma      NaN  "
      ]
     },
     "execution_count": 6,
     "metadata": {},
     "output_type": "execute_result"
    }
   ],
   "source": [
    "# Which game was this biggest win?\n",
    "biggest_game = match_data.loc[match_data['win_by_runs'] == biggest_win]\n",
    "biggest_game"
   ]
  },
  {
   "cell_type": "code",
   "execution_count": 8,
   "id": "3ec2b3f4",
   "metadata": {
    "ExecuteTime": {
     "end_time": "2021-10-19T03:57:33.167649Z",
     "start_time": "2021-10-19T03:57:33.158645Z"
    }
   },
   "outputs": [
    {
     "data": {
      "text/plain": [
       "['2016',\n",
       " 'M Chinnaswamy Stadium',\n",
       " 'Royal Challengers Bangalore',\n",
       " 'Gujarat Lions',\n",
       " 'Royal Challengers Bangalore']"
      ]
     },
     "execution_count": 8,
     "metadata": {},
     "output_type": "execute_result"
    }
   ],
   "source": [
    "teams_biggest_win.append((str(biggest_game['season'].tolist()[0])))\n",
    "teams_biggest_win.append((str(biggest_game['venue'].tolist()[0])))\n",
    "teams_biggest_win.append(str(biggest_game['team1'].tolist()[0]))\n",
    "teams_biggest_win.append(str(biggest_game['team2'].tolist()[0]))\n",
    "teams_biggest_win.append(str(biggest_game['winner'].tolist()[0]))\n",
    "teams_biggest_win"
   ]
  },
  {
   "cell_type": "code",
   "execution_count": 10,
   "id": "ef527843",
   "metadata": {
    "ExecuteTime": {
     "end_time": "2021-10-19T03:57:51.142165Z",
     "start_time": "2021-10-19T03:57:51.111143Z"
    }
   },
   "outputs": [
    {
     "data": {
      "text/html": [
       "<div>\n",
       "<style scoped>\n",
       "    .dataframe tbody tr th:only-of-type {\n",
       "        vertical-align: middle;\n",
       "    }\n",
       "\n",
       "    .dataframe tbody tr th {\n",
       "        vertical-align: top;\n",
       "    }\n",
       "\n",
       "    .dataframe thead th {\n",
       "        text-align: right;\n",
       "    }\n",
       "</style>\n",
       "<table border=\"1\" class=\"dataframe\">\n",
       "  <thead>\n",
       "    <tr style=\"text-align: right;\">\n",
       "      <th></th>\n",
       "      <th>id</th>\n",
       "      <th>season</th>\n",
       "      <th>city</th>\n",
       "      <th>date</th>\n",
       "      <th>team1</th>\n",
       "      <th>team2</th>\n",
       "      <th>toss_winner</th>\n",
       "      <th>toss_decision</th>\n",
       "      <th>result</th>\n",
       "      <th>dl_applied</th>\n",
       "      <th>winner</th>\n",
       "      <th>win_by_runs</th>\n",
       "      <th>win_by_wickets</th>\n",
       "      <th>player_of_match</th>\n",
       "      <th>venue</th>\n",
       "      <th>umpire1</th>\n",
       "      <th>umpire2</th>\n",
       "      <th>umpire3</th>\n",
       "    </tr>\n",
       "  </thead>\n",
       "  <tbody>\n",
       "    <tr>\n",
       "      <th>66</th>\n",
       "      <td>67</td>\n",
       "      <td>2009</td>\n",
       "      <td>Cape Town</td>\n",
       "      <td>2009-04-23</td>\n",
       "      <td>Rajasthan Royals</td>\n",
       "      <td>Kolkata Knight Riders</td>\n",
       "      <td>Kolkata Knight Riders</td>\n",
       "      <td>field</td>\n",
       "      <td>tie</td>\n",
       "      <td>0</td>\n",
       "      <td>Rajasthan Royals</td>\n",
       "      <td>0</td>\n",
       "      <td>0</td>\n",
       "      <td>YK Pathan</td>\n",
       "      <td>Newlands</td>\n",
       "      <td>MR Benson</td>\n",
       "      <td>M Erasmus</td>\n",
       "      <td>NaN</td>\n",
       "    </tr>\n",
       "    <tr>\n",
       "      <th>130</th>\n",
       "      <td>131</td>\n",
       "      <td>2010</td>\n",
       "      <td>Chennai</td>\n",
       "      <td>2010-03-21</td>\n",
       "      <td>Kings XI Punjab</td>\n",
       "      <td>Chennai Super Kings</td>\n",
       "      <td>Chennai Super Kings</td>\n",
       "      <td>field</td>\n",
       "      <td>tie</td>\n",
       "      <td>0</td>\n",
       "      <td>Kings XI Punjab</td>\n",
       "      <td>0</td>\n",
       "      <td>0</td>\n",
       "      <td>J Theron</td>\n",
       "      <td>MA Chidambaram Stadium, Chepauk</td>\n",
       "      <td>K Hariharan</td>\n",
       "      <td>DJ Harper</td>\n",
       "      <td>NaN</td>\n",
       "    </tr>\n",
       "    <tr>\n",
       "      <th>328</th>\n",
       "      <td>329</td>\n",
       "      <td>2013</td>\n",
       "      <td>Hyderabad</td>\n",
       "      <td>2013-04-07</td>\n",
       "      <td>Royal Challengers Bangalore</td>\n",
       "      <td>Sunrisers Hyderabad</td>\n",
       "      <td>Royal Challengers Bangalore</td>\n",
       "      <td>bat</td>\n",
       "      <td>tie</td>\n",
       "      <td>0</td>\n",
       "      <td>Sunrisers Hyderabad</td>\n",
       "      <td>0</td>\n",
       "      <td>0</td>\n",
       "      <td>GH Vihari</td>\n",
       "      <td>Rajiv Gandhi International Stadium, Uppal</td>\n",
       "      <td>AK Chowdhary</td>\n",
       "      <td>S Ravi</td>\n",
       "      <td>NaN</td>\n",
       "    </tr>\n",
       "    <tr>\n",
       "      <th>341</th>\n",
       "      <td>342</td>\n",
       "      <td>2013</td>\n",
       "      <td>Bangalore</td>\n",
       "      <td>2013-04-16</td>\n",
       "      <td>Delhi Daredevils</td>\n",
       "      <td>Royal Challengers Bangalore</td>\n",
       "      <td>Royal Challengers Bangalore</td>\n",
       "      <td>field</td>\n",
       "      <td>tie</td>\n",
       "      <td>0</td>\n",
       "      <td>Royal Challengers Bangalore</td>\n",
       "      <td>0</td>\n",
       "      <td>0</td>\n",
       "      <td>V Kohli</td>\n",
       "      <td>M Chinnaswamy Stadium</td>\n",
       "      <td>M Erasmus</td>\n",
       "      <td>VA Kulkarni</td>\n",
       "      <td>NaN</td>\n",
       "    </tr>\n",
       "    <tr>\n",
       "      <th>416</th>\n",
       "      <td>417</td>\n",
       "      <td>2014</td>\n",
       "      <td>Abu Dhabi</td>\n",
       "      <td>2014-04-29</td>\n",
       "      <td>Rajasthan Royals</td>\n",
       "      <td>Kolkata Knight Riders</td>\n",
       "      <td>Rajasthan Royals</td>\n",
       "      <td>bat</td>\n",
       "      <td>tie</td>\n",
       "      <td>0</td>\n",
       "      <td>Rajasthan Royals</td>\n",
       "      <td>0</td>\n",
       "      <td>0</td>\n",
       "      <td>JP Faulkner</td>\n",
       "      <td>Sheikh Zayed Stadium</td>\n",
       "      <td>Aleem Dar</td>\n",
       "      <td>AK Chaudhary</td>\n",
       "      <td>NaN</td>\n",
       "    </tr>\n",
       "    <tr>\n",
       "      <th>476</th>\n",
       "      <td>477</td>\n",
       "      <td>2015</td>\n",
       "      <td>Ahmedabad</td>\n",
       "      <td>2015-04-21</td>\n",
       "      <td>Rajasthan Royals</td>\n",
       "      <td>Kings XI Punjab</td>\n",
       "      <td>Kings XI Punjab</td>\n",
       "      <td>field</td>\n",
       "      <td>tie</td>\n",
       "      <td>0</td>\n",
       "      <td>Kings XI Punjab</td>\n",
       "      <td>0</td>\n",
       "      <td>0</td>\n",
       "      <td>SE Marsh</td>\n",
       "      <td>Sardar Patel Stadium, Motera</td>\n",
       "      <td>M Erasmus</td>\n",
       "      <td>S Ravi</td>\n",
       "      <td>NaN</td>\n",
       "    </tr>\n",
       "  </tbody>\n",
       "</table>\n",
       "</div>"
      ],
      "text/plain": [
       "      id  season       city        date                        team1  \\\n",
       "66    67    2009  Cape Town  2009-04-23             Rajasthan Royals   \n",
       "130  131    2010    Chennai  2010-03-21              Kings XI Punjab   \n",
       "328  329    2013  Hyderabad  2013-04-07  Royal Challengers Bangalore   \n",
       "341  342    2013  Bangalore  2013-04-16             Delhi Daredevils   \n",
       "416  417    2014  Abu Dhabi  2014-04-29             Rajasthan Royals   \n",
       "476  477    2015  Ahmedabad  2015-04-21             Rajasthan Royals   \n",
       "\n",
       "                           team2                  toss_winner toss_decision  \\\n",
       "66         Kolkata Knight Riders        Kolkata Knight Riders         field   \n",
       "130          Chennai Super Kings          Chennai Super Kings         field   \n",
       "328          Sunrisers Hyderabad  Royal Challengers Bangalore           bat   \n",
       "341  Royal Challengers Bangalore  Royal Challengers Bangalore         field   \n",
       "416        Kolkata Knight Riders             Rajasthan Royals           bat   \n",
       "476              Kings XI Punjab              Kings XI Punjab         field   \n",
       "\n",
       "    result  dl_applied                       winner  win_by_runs  \\\n",
       "66     tie           0             Rajasthan Royals            0   \n",
       "130    tie           0              Kings XI Punjab            0   \n",
       "328    tie           0          Sunrisers Hyderabad            0   \n",
       "341    tie           0  Royal Challengers Bangalore            0   \n",
       "416    tie           0             Rajasthan Royals            0   \n",
       "476    tie           0              Kings XI Punjab            0   \n",
       "\n",
       "     win_by_wickets player_of_match  \\\n",
       "66                0       YK Pathan   \n",
       "130               0        J Theron   \n",
       "328               0       GH Vihari   \n",
       "341               0         V Kohli   \n",
       "416               0     JP Faulkner   \n",
       "476               0        SE Marsh   \n",
       "\n",
       "                                         venue       umpire1       umpire2  \\\n",
       "66                                    Newlands     MR Benson     M Erasmus   \n",
       "130            MA Chidambaram Stadium, Chepauk   K Hariharan     DJ Harper   \n",
       "328  Rajiv Gandhi International Stadium, Uppal  AK Chowdhary        S Ravi   \n",
       "341                      M Chinnaswamy Stadium     M Erasmus   VA Kulkarni   \n",
       "416                       Sheikh Zayed Stadium     Aleem Dar  AK Chaudhary   \n",
       "476               Sardar Patel Stadium, Motera     M Erasmus        S Ravi   \n",
       "\n",
       "     umpire3  \n",
       "66       NaN  \n",
       "130      NaN  \n",
       "328      NaN  \n",
       "341      NaN  \n",
       "416      NaN  \n",
       "476      NaN  "
      ]
     },
     "execution_count": 10,
     "metadata": {},
     "output_type": "execute_result"
    }
   ],
   "source": [
    "tie_matches = match_data.loc[match_data['result'] == 'tie']\n",
    "tie_matches"
   ]
  },
  {
   "cell_type": "code",
   "execution_count": 11,
   "id": "e74e8bfd",
   "metadata": {
    "ExecuteTime": {
     "end_time": "2021-10-19T03:58:47.772983Z",
     "start_time": "2021-10-19T03:58:47.701933Z"
    }
   },
   "outputs": [
    {
     "data": {
      "text/plain": [
       "M Chinnaswamy Stadium                                   58\n",
       "Eden Gardens                                            54\n",
       "Feroz Shah Kotla                                        53\n",
       "Wankhede Stadium                                        49\n",
       "MA Chidambaram Stadium, Chepauk                         48\n",
       "Rajiv Gandhi International Stadium, Uppal               41\n",
       "Punjab Cricket Association Stadium, Mohali              35\n",
       "Sawai Mansingh Stadium                                  33\n",
       "Dr DY Patil Sports Academy                              17\n",
       "Subrata Roy Sahara Stadium                              17\n",
       "Kingsmead                                               15\n",
       "Sardar Patel Stadium, Motera                            12\n",
       "SuperSport Park                                         12\n",
       "Brabourne Stadium                                       11\n",
       "Dr. Y.S. Rajasekhara Reddy ACA-VDCA Cricket Stadium     11\n",
       "Himachal Pradesh Cricket Association Stadium             9\n",
       "New Wanderers Stadium                                    8\n",
       "Maharashtra Cricket Association Stadium                  8\n",
       "JSCA International Stadium Complex                       7\n",
       "Sheikh Zayed Stadium                                     7\n",
       "Barabati Stadium                                         7\n",
       "Newlands                                                 7\n",
       "St George's Park                                         7\n",
       "Punjab Cricket Association IS Bindra Stadium, Mohali     7\n",
       "Dubai International Cricket Stadium                      7\n",
       "Sharjah Cricket Stadium                                  6\n",
       "Shaheed Veer Narayan Singh International Stadium         6\n",
       "Nehru Stadium                                            5\n",
       "Saurashtra Cricket Association Stadium                   5\n",
       "De Beers Diamond Oval                                    3\n",
       "Vidarbha Cricket Association Stadium, Jamtha             3\n",
       "Buffalo Park                                             3\n",
       "Holkar Cricket Stadium                                   2\n",
       "OUTsurance Oval                                          2\n",
       "Green Park                                               2\n",
       "Name: venue, dtype: int64"
      ]
     },
     "execution_count": 11,
     "metadata": {},
     "output_type": "execute_result"
    }
   ],
   "source": [
    "# Popular Venues in the IPL\n",
    "match_data['venue'].value_counts().sort_values(ascending=False)"
   ]
  },
  {
   "cell_type": "code",
   "execution_count": 14,
   "id": "5660ddf2",
   "metadata": {
    "ExecuteTime": {
     "end_time": "2021-10-19T03:59:51.651941Z",
     "start_time": "2021-10-19T03:59:51.299616Z"
    }
   },
   "outputs": [
    {
     "data": {
      "image/png": "[encoded data removed]",
      "text/plain": [
       "<Figure size 1440x432 with 1 Axes>"
      ]
     },
     "metadata": {},
     "output_type": "display_data"
    }
   ],
   "source": [
    "sns.set_style(\"darkgrid\") \n",
    "ls = match_data['venue'].value_counts().sort_values(ascending=False)\n",
    "ls = ls[:10]\n",
    "plt.figure(figsize=(20, 6))\n",
    "Most_Played = sns.barplot(ls.index, ls.values, alpha=0.8)\n",
    "\n",
    "plt.title('Most Played venue')\n",
    "plt.ylabel('Count', fontsize=12)\n",
    "plt.xlabel('Name of the stadiums', fontsize=15)\n",
    "Most_Played.set_xticklabels(rotation=30, labels=ls.index, fontsize=10)\n",
    "plt.show()"
   ]
  },
  {
   "cell_type": "code",
   "execution_count": 15,
   "id": "7b50a3be",
   "metadata": {
    "ExecuteTime": {
     "end_time": "2021-10-19T04:00:37.340603Z",
     "start_time": "2021-10-19T04:00:37.330598Z"
    }
   },
   "outputs": [
    {
     "data": {
      "text/plain": [
       "CH Gayle          17\n",
       "YK Pathan         16\n",
       "AB de Villiers    15\n",
       "DA Warner         14\n",
       "SK Raina          13\n",
       "RG Sharma         13\n",
       "G Gambhir         12\n",
       "AM Rahane         12\n",
       "MEK Hussey        12\n",
       "MS Dhoni          12\n",
       "Name: player_of_match, dtype: int64"
      ]
     },
     "execution_count": 15,
     "metadata": {},
     "output_type": "execute_result"
    }
   ],
   "source": [
    "# Match Statistics\n",
    "# Player with the most 'Man of the Matches'\n",
    "match_data['player_of_match'].value_counts().head(10)"
   ]
  },
  {
   "cell_type": "code",
   "execution_count": 16,
   "id": "45b9b28c",
   "metadata": {
    "ExecuteTime": {
     "end_time": "2021-10-19T04:00:47.637549Z",
     "start_time": "2021-10-19T04:00:47.301019Z"
    }
   },
   "outputs": [
    {
     "data": {
      "image/png": "[encoded data removed]",
      "text/plain": [
       "<Figure size 1440x432 with 1 Axes>"
      ]
     },
     "metadata": {},
     "output_type": "display_data"
    }
   ],
   "source": [
    "man_of_match = match_data['player_of_match'].value_counts()\n",
    "man_of_match = man_of_match[:10]\n",
    "sns.set_style(\"darkgrid\")\n",
    "plt.figure(figsize=(20, 6))\n",
    "man_of_matches = sns.barplot(\n",
    "    man_of_match.index, man_of_match.values, alpha=0.8, palette='winter')\n",
    "plt.title('Most Player Of The Match')\n",
    "plt.ylabel('Count', fontsize=12)\n",
    "plt.xlabel('player_of_match', fontsize=12)\n",
    "man_of_matches.set_xticklabels(\n",
    "    rotation=30, labels=man_of_match.index, fontsize=15)\n",
    "plt.show()"
   ]
  },
  {
   "cell_type": "code",
   "execution_count": 17,
   "id": "62b9ec63",
   "metadata": {
    "ExecuteTime": {
     "end_time": "2021-10-19T04:01:13.727481Z",
     "start_time": "2021-10-19T04:01:13.339086Z"
    }
   },
   "outputs": [
    {
     "data": {
      "text/plain": [
       "Text(0.5, 0, 'Season')"
      ]
     },
     "execution_count": 17,
     "metadata": {},
     "output_type": "execute_result"
    },
    {
     "data": {
      "image/png": "[encoded data removed]",
      "text/plain": [
       "<Figure size 1440x432 with 1 Axes>"
      ]
     },
     "metadata": {},
     "output_type": "display_data"
    }
   ],
   "source": [
    "# Matches Played across each season\n",
    "plt.figure(figsize=(20, 6))\n",
    "season = sns.countplot(x='season', data=match_data)\n",
    "plt.xlabel('Season', fontsize=20)"
   ]
  },
  {
   "cell_type": "code",
   "execution_count": 18,
   "id": "f3ed1f7d",
   "metadata": {
    "ExecuteTime": {
     "end_time": "2021-10-19T04:02:30.518805Z",
     "start_time": "2021-10-19T04:02:30.049470Z"
    }
   },
   "outputs": [
    {
     "data": {
      "image/png": "[encoded data removed]",
      "text/plain": [
       "<Figure size 432x288 with 1 Axes>"
      ]
     },
     "metadata": {},
     "output_type": "display_data"
    }
   ],
   "source": [
    "# Stadium Wise Analysis for most played venues\n",
    "# MA Chidambaram Stadium\n",
    "Chennai_stadium = match_data.loc[(\n",
    "    match_data['venue'] == 'MA Chidambaram Stadium, Chepauk')]\n",
    "# Team batting first has won the most match\n",
    "Chennai_stadium_win_by_runs = Chennai_stadium[Chennai_stadium['win_by_runs'] > 0]\n",
    "slices = [len(Chennai_stadium_win_by_runs), len(\n",
    "    Chennai_stadium)-len(Chennai_stadium_win_by_runs)]\n",
    "labels = ['Batting first', 'Batting Second']\n",
    "plt.pie(slices, labels=labels, startangle=90, shadow=1, explode=(\n",
    "    0, 0.4), autopct='%1.2f%%', colors=['#00ffbf', '#00ff00'])\n",
    "plt.show()"
   ]
  },
  {
   "cell_type": "code",
   "execution_count": 21,
   "id": "03c4ab28",
   "metadata": {
    "ExecuteTime": {
     "end_time": "2021-10-19T04:04:07.998043Z",
     "start_time": "2021-10-19T04:04:07.796111Z"
    }
   },
   "outputs": [
    {
     "data": {
      "image/png": "[encoded data removed]",
      "text/plain": [
       "<Figure size 432x288 with 1 Axes>"
      ]
     },
     "metadata": {},
     "output_type": "display_data"
    }
   ],
   "source": [
    "# Chinnaswamy Stadium\n",
    "M_Chinnaswamy_Stadium = match_data.loc[(\n",
    "    match_data['venue'] == 'M Chinnaswamy Stadium')]\n",
    "# Team batting First Has Won the match\n",
    "M_Chinnaswamy_Stadium_win_by_runs = M_Chinnaswamy_Stadium[M_Chinnaswamy_Stadium['win_by_runs'] > 0]\n",
    "slices = [len(M_Chinnaswamy_Stadium_win_by_runs), len(\n",
    "    M_Chinnaswamy_Stadium)-len(M_Chinnaswamy_Stadium_win_by_runs)]\n",
    "labels = ['Batting first', 'Batting Second']\n",
    "plt.pie(slices, labels=labels, startangle=90, shadow=1, explode=(\n",
    "    0, 0.4), autopct='%1.2f%%', colors=['#99ff99', '#ffcc99'])\n",
    "plt.show()"
   ]
  },
  {
   "cell_type": "code",
   "execution_count": 22,
   "id": "5c2f38a3",
   "metadata": {
    "ExecuteTime": {
     "end_time": "2021-10-19T04:05:14.588454Z",
     "start_time": "2021-10-19T04:05:14.580450Z"
    }
   },
   "outputs": [
    {
     "data": {
      "text/plain": [
       "74"
      ]
     },
     "execution_count": 22,
     "metadata": {},
     "output_type": "execute_result"
    }
   ],
   "source": [
    "# Deep Analysis of the Games in 2012\n",
    "len(match_data[match_data['season'] == 2012])"
   ]
  },
  {
   "cell_type": "code",
   "execution_count": 23,
   "id": "54ed37e1",
   "metadata": {
    "ExecuteTime": {
     "end_time": "2021-10-19T04:05:47.556711Z",
     "start_time": "2021-10-19T04:05:47.528691Z"
    }
   },
   "outputs": [
    {
     "name": "stdout",
     "output_type": "stream",
     "text": [
      "33\n"
     ]
    },
    {
     "data": {
      "text/html": [
       "<div>\n",
       "<style scoped>\n",
       "    .dataframe tbody tr th:only-of-type {\n",
       "        vertical-align: middle;\n",
       "    }\n",
       "\n",
       "    .dataframe tbody tr th {\n",
       "        vertical-align: top;\n",
       "    }\n",
       "\n",
       "    .dataframe thead th {\n",
       "        text-align: right;\n",
       "    }\n",
       "</style>\n",
       "<table border=\"1\" class=\"dataframe\">\n",
       "  <thead>\n",
       "    <tr style=\"text-align: right;\">\n",
       "      <th></th>\n",
       "      <th>id</th>\n",
       "      <th>season</th>\n",
       "      <th>city</th>\n",
       "      <th>date</th>\n",
       "      <th>team1</th>\n",
       "      <th>team2</th>\n",
       "      <th>toss_winner</th>\n",
       "      <th>toss_decision</th>\n",
       "      <th>result</th>\n",
       "      <th>dl_applied</th>\n",
       "      <th>winner</th>\n",
       "      <th>win_by_runs</th>\n",
       "      <th>win_by_wickets</th>\n",
       "      <th>player_of_match</th>\n",
       "      <th>venue</th>\n",
       "      <th>umpire1</th>\n",
       "      <th>umpire2</th>\n",
       "      <th>umpire3</th>\n",
       "    </tr>\n",
       "  </thead>\n",
       "  <tbody>\n",
       "    <tr>\n",
       "      <th>248</th>\n",
       "      <td>249</td>\n",
       "      <td>2012</td>\n",
       "      <td>Chennai</td>\n",
       "      <td>2012-04-04</td>\n",
       "      <td>Chennai Super Kings</td>\n",
       "      <td>Mumbai Indians</td>\n",
       "      <td>Mumbai Indians</td>\n",
       "      <td>field</td>\n",
       "      <td>normal</td>\n",
       "      <td>0</td>\n",
       "      <td>Mumbai Indians</td>\n",
       "      <td>0</td>\n",
       "      <td>8</td>\n",
       "      <td>RE Levi</td>\n",
       "      <td>MA Chidambaram Stadium, Chepauk</td>\n",
       "      <td>JD Cloete</td>\n",
       "      <td>SJA Taufel</td>\n",
       "      <td>NaN</td>\n",
       "    </tr>\n",
       "    <tr>\n",
       "      <th>249</th>\n",
       "      <td>250</td>\n",
       "      <td>2012</td>\n",
       "      <td>Kolkata</td>\n",
       "      <td>2012-04-05</td>\n",
       "      <td>Kolkata Knight Riders</td>\n",
       "      <td>Delhi Daredevils</td>\n",
       "      <td>Delhi Daredevils</td>\n",
       "      <td>field</td>\n",
       "      <td>normal</td>\n",
       "      <td>0</td>\n",
       "      <td>Delhi Daredevils</td>\n",
       "      <td>0</td>\n",
       "      <td>8</td>\n",
       "      <td>IK Pathan</td>\n",
       "      <td>Eden Gardens</td>\n",
       "      <td>S Asnani</td>\n",
       "      <td>HDPK Dharmasena</td>\n",
       "      <td>NaN</td>\n",
       "    </tr>\n",
       "    <tr>\n",
       "      <th>255</th>\n",
       "      <td>256</td>\n",
       "      <td>2012</td>\n",
       "      <td>Pune</td>\n",
       "      <td>2012-04-08</td>\n",
       "      <td>Pune Warriors</td>\n",
       "      <td>Kings XI Punjab</td>\n",
       "      <td>Pune Warriors</td>\n",
       "      <td>bat</td>\n",
       "      <td>normal</td>\n",
       "      <td>0</td>\n",
       "      <td>Pune Warriors</td>\n",
       "      <td>22</td>\n",
       "      <td>0</td>\n",
       "      <td>MN Samuels</td>\n",
       "      <td>Subrata Roy Sahara Stadium</td>\n",
       "      <td>S Das</td>\n",
       "      <td>SJA Taufel</td>\n",
       "      <td>NaN</td>\n",
       "    </tr>\n",
       "    <tr>\n",
       "      <th>258</th>\n",
       "      <td>259</td>\n",
       "      <td>2012</td>\n",
       "      <td>Delhi</td>\n",
       "      <td>2012-04-10</td>\n",
       "      <td>Chennai Super Kings</td>\n",
       "      <td>Delhi Daredevils</td>\n",
       "      <td>Delhi Daredevils</td>\n",
       "      <td>field</td>\n",
       "      <td>normal</td>\n",
       "      <td>0</td>\n",
       "      <td>Delhi Daredevils</td>\n",
       "      <td>0</td>\n",
       "      <td>8</td>\n",
       "      <td>M Morkel</td>\n",
       "      <td>Feroz Shah Kotla</td>\n",
       "      <td>Asad Rauf</td>\n",
       "      <td>SK Tarapore</td>\n",
       "      <td>NaN</td>\n",
       "    </tr>\n",
       "    <tr>\n",
       "      <th>261</th>\n",
       "      <td>262</td>\n",
       "      <td>2012</td>\n",
       "      <td>Chandigarh</td>\n",
       "      <td>2012-04-12</td>\n",
       "      <td>Pune Warriors</td>\n",
       "      <td>Kings XI Punjab</td>\n",
       "      <td>Kings XI Punjab</td>\n",
       "      <td>field</td>\n",
       "      <td>normal</td>\n",
       "      <td>0</td>\n",
       "      <td>Kings XI Punjab</td>\n",
       "      <td>0</td>\n",
       "      <td>7</td>\n",
       "      <td>AD Mascarenhas</td>\n",
       "      <td>Punjab Cricket Association Stadium, Mohali</td>\n",
       "      <td>VA Kulkarni</td>\n",
       "      <td>SK Tarapore</td>\n",
       "      <td>NaN</td>\n",
       "    </tr>\n",
       "  </tbody>\n",
       "</table>\n",
       "</div>"
      ],
      "text/plain": [
       "      id  season        city        date                  team1  \\\n",
       "248  249    2012     Chennai  2012-04-04    Chennai Super Kings   \n",
       "249  250    2012     Kolkata  2012-04-05  Kolkata Knight Riders   \n",
       "255  256    2012        Pune  2012-04-08          Pune Warriors   \n",
       "258  259    2012       Delhi  2012-04-10    Chennai Super Kings   \n",
       "261  262    2012  Chandigarh  2012-04-12          Pune Warriors   \n",
       "\n",
       "                team2       toss_winner toss_decision  result  dl_applied  \\\n",
       "248    Mumbai Indians    Mumbai Indians         field  normal           0   \n",
       "249  Delhi Daredevils  Delhi Daredevils         field  normal           0   \n",
       "255   Kings XI Punjab     Pune Warriors           bat  normal           0   \n",
       "258  Delhi Daredevils  Delhi Daredevils         field  normal           0   \n",
       "261   Kings XI Punjab   Kings XI Punjab         field  normal           0   \n",
       "\n",
       "               winner  win_by_runs  win_by_wickets player_of_match  \\\n",
       "248    Mumbai Indians            0               8         RE Levi   \n",
       "249  Delhi Daredevils            0               8       IK Pathan   \n",
       "255     Pune Warriors           22               0      MN Samuels   \n",
       "258  Delhi Daredevils            0               8        M Morkel   \n",
       "261   Kings XI Punjab            0               7  AD Mascarenhas   \n",
       "\n",
       "                                          venue      umpire1          umpire2  \\\n",
       "248             MA Chidambaram Stadium, Chepauk    JD Cloete       SJA Taufel   \n",
       "249                                Eden Gardens     S Asnani  HDPK Dharmasena   \n",
       "255                  Subrata Roy Sahara Stadium        S Das       SJA Taufel   \n",
       "258                            Feroz Shah Kotla    Asad Rauf      SK Tarapore   \n",
       "261  Punjab Cricket Association Stadium, Mohali  VA Kulkarni      SK Tarapore   \n",
       "\n",
       "     umpire3  \n",
       "248      NaN  \n",
       "249      NaN  \n",
       "255      NaN  \n",
       "258      NaN  \n",
       "261      NaN  "
      ]
     },
     "execution_count": 23,
     "metadata": {},
     "output_type": "execute_result"
    }
   ],
   "source": [
    "match_2012 = match_data[match_data['season'] == 2012]\n",
    "print(len(match_2012[match_2012['toss_winner'] == match_2012['winner']]))\n",
    "match_2012[match_2012['toss_winner'] == match_2012['winner']].head()"
   ]
  },
  {
   "cell_type": "code",
   "execution_count": 27,
   "id": "d509067a",
   "metadata": {
    "ExecuteTime": {
     "end_time": "2021-10-19T04:07:24.920618Z",
     "start_time": "2021-10-19T04:07:24.796627Z"
    }
   },
   "outputs": [
    {
     "data": {
      "image/png": "[encoded data removed]",
      "text/plain": [
       "<Figure size 432x288 with 1 Axes>"
      ]
     },
     "metadata": {},
     "output_type": "display_data"
    }
   ],
   "source": [
    "# Do the toss winner also wins the game\n",
    "match_2012 = match_data[match_data['season'] == 2012]\n",
    "data = match_2012[match_2012['toss_winner'] == match_2012['winner']]\n",
    "\n",
    "slices = [len(data), (74-len(data))]\n",
    "labels = ['yes', 'no']\n",
    "plt.pie(slices, labels=labels, startangle=90, shadow=True, explode=(\n",
    "    0, 0.05), autopct='%1.2f%%', colors=['#99f999', '#ffcc99'])\n",
    "plt.show()"
   ]
  },
  {
   "cell_type": "markdown",
   "id": "bb23c732",
   "metadata": {},
   "source": [
    "In 2012 if the team won the toss, the chances to win the match is 55.41%"
   ]
  },
  {
   "cell_type": "code",
   "execution_count": 29,
   "id": "cbfd4424",
   "metadata": {
    "ExecuteTime": {
     "end_time": "2021-10-19T04:12:13.003506Z",
     "start_time": "2021-10-19T04:12:12.844536Z"
    }
   },
   "outputs": [
    {
     "data": {
      "image/png": "[encoded data removed]",
      "text/plain": [
       "<Figure size 432x288 with 1 Axes>"
      ]
     },
     "metadata": {},
     "output_type": "display_data"
    }
   ],
   "source": [
    "# Trends after winning the toss\n",
    "data = match_data[(match_data['toss_decision'] == 'field')\n",
    "                  & (match_data['season'] == 2012)]\n",
    "labels = ['Bat', 'Field']\n",
    "slices = [74-len(data), len(data)]\n",
    "plt.pie(slices, labels=labels, startangle=90, shadow=1, explode=(\n",
    "    0.2, 0.4), autopct='%1.2f%%', colors=['#ff9999', '#66b3ff'])\n",
    "plt.show()"
   ]
  },
  {
   "cell_type": "markdown",
   "id": "9008bfba",
   "metadata": {},
   "source": [
    "Winning team either choose to bat and field are similar"
   ]
  },
  {
   "cell_type": "code",
   "execution_count": 30,
   "id": "7f9c0b56",
   "metadata": {
    "ExecuteTime": {
     "end_time": "2021-10-19T04:14:05.739169Z",
     "start_time": "2021-10-19T04:14:05.716153Z"
    }
   },
   "outputs": [
    {
     "data": {
      "text/html": [
       "<div>\n",
       "<style scoped>\n",
       "    .dataframe tbody tr th:only-of-type {\n",
       "        vertical-align: middle;\n",
       "    }\n",
       "\n",
       "    .dataframe tbody tr th {\n",
       "        vertical-align: top;\n",
       "    }\n",
       "\n",
       "    .dataframe thead th {\n",
       "        text-align: right;\n",
       "    }\n",
       "</style>\n",
       "<table border=\"1\" class=\"dataframe\">\n",
       "  <thead>\n",
       "    <tr style=\"text-align: right;\">\n",
       "      <th></th>\n",
       "      <th>id</th>\n",
       "      <th>season</th>\n",
       "      <th>city</th>\n",
       "      <th>date</th>\n",
       "      <th>team1</th>\n",
       "      <th>team2</th>\n",
       "      <th>toss_winner</th>\n",
       "      <th>toss_decision</th>\n",
       "      <th>result</th>\n",
       "      <th>dl_applied</th>\n",
       "      <th>winner</th>\n",
       "      <th>win_by_runs</th>\n",
       "      <th>win_by_wickets</th>\n",
       "      <th>player_of_match</th>\n",
       "      <th>venue</th>\n",
       "      <th>umpire1</th>\n",
       "      <th>umpire2</th>\n",
       "      <th>umpire3</th>\n",
       "    </tr>\n",
       "  </thead>\n",
       "  <tbody>\n",
       "    <tr>\n",
       "      <th>0</th>\n",
       "      <td>1</td>\n",
       "      <td>2008</td>\n",
       "      <td>Bangalore</td>\n",
       "      <td>2008-04-18</td>\n",
       "      <td>Kolkata Knight Riders</td>\n",
       "      <td>Royal Challengers Bangalore</td>\n",
       "      <td>Royal Challengers Bangalore</td>\n",
       "      <td>field</td>\n",
       "      <td>normal</td>\n",
       "      <td>0</td>\n",
       "      <td>Kolkata Knight Riders</td>\n",
       "      <td>140</td>\n",
       "      <td>0</td>\n",
       "      <td>BB McCullum</td>\n",
       "      <td>M Chinnaswamy Stadium</td>\n",
       "      <td>Asad Rauf</td>\n",
       "      <td>RE Koertzen</td>\n",
       "      <td>NaN</td>\n",
       "    </tr>\n",
       "    <tr>\n",
       "      <th>1</th>\n",
       "      <td>2</td>\n",
       "      <td>2008</td>\n",
       "      <td>Chandigarh</td>\n",
       "      <td>2008-04-19</td>\n",
       "      <td>Chennai Super Kings</td>\n",
       "      <td>Kings XI Punjab</td>\n",
       "      <td>Chennai Super Kings</td>\n",
       "      <td>bat</td>\n",
       "      <td>normal</td>\n",
       "      <td>0</td>\n",
       "      <td>Chennai Super Kings</td>\n",
       "      <td>33</td>\n",
       "      <td>0</td>\n",
       "      <td>MEK Hussey</td>\n",
       "      <td>Punjab Cricket Association Stadium, Mohali</td>\n",
       "      <td>MR Benson</td>\n",
       "      <td>SL Shastri</td>\n",
       "      <td>NaN</td>\n",
       "    </tr>\n",
       "    <tr>\n",
       "      <th>2</th>\n",
       "      <td>3</td>\n",
       "      <td>2008</td>\n",
       "      <td>Delhi</td>\n",
       "      <td>2008-04-19</td>\n",
       "      <td>Rajasthan Royals</td>\n",
       "      <td>Delhi Daredevils</td>\n",
       "      <td>Rajasthan Royals</td>\n",
       "      <td>bat</td>\n",
       "      <td>normal</td>\n",
       "      <td>0</td>\n",
       "      <td>Delhi Daredevils</td>\n",
       "      <td>0</td>\n",
       "      <td>9</td>\n",
       "      <td>MF Maharoof</td>\n",
       "      <td>Feroz Shah Kotla</td>\n",
       "      <td>Aleem Dar</td>\n",
       "      <td>GA Pratapkumar</td>\n",
       "      <td>NaN</td>\n",
       "    </tr>\n",
       "    <tr>\n",
       "      <th>3</th>\n",
       "      <td>4</td>\n",
       "      <td>2008</td>\n",
       "      <td>Mumbai</td>\n",
       "      <td>2008-04-20</td>\n",
       "      <td>Mumbai Indians</td>\n",
       "      <td>Royal Challengers Bangalore</td>\n",
       "      <td>Mumbai Indians</td>\n",
       "      <td>bat</td>\n",
       "      <td>normal</td>\n",
       "      <td>0</td>\n",
       "      <td>Royal Challengers Bangalore</td>\n",
       "      <td>0</td>\n",
       "      <td>5</td>\n",
       "      <td>MV Boucher</td>\n",
       "      <td>Wankhede Stadium</td>\n",
       "      <td>SJ Davis</td>\n",
       "      <td>DJ Harper</td>\n",
       "      <td>NaN</td>\n",
       "    </tr>\n",
       "    <tr>\n",
       "      <th>4</th>\n",
       "      <td>5</td>\n",
       "      <td>2008</td>\n",
       "      <td>Kolkata</td>\n",
       "      <td>2008-04-20</td>\n",
       "      <td>Deccan Chargers</td>\n",
       "      <td>Kolkata Knight Riders</td>\n",
       "      <td>Deccan Chargers</td>\n",
       "      <td>bat</td>\n",
       "      <td>normal</td>\n",
       "      <td>0</td>\n",
       "      <td>Kolkata Knight Riders</td>\n",
       "      <td>0</td>\n",
       "      <td>5</td>\n",
       "      <td>DJ Hussey</td>\n",
       "      <td>Eden Gardens</td>\n",
       "      <td>BF Bowden</td>\n",
       "      <td>K Hariharan</td>\n",
       "      <td>NaN</td>\n",
       "    </tr>\n",
       "  </tbody>\n",
       "</table>\n",
       "</div>"
      ],
      "text/plain": [
       "   id  season        city        date                  team1  \\\n",
       "0   1    2008   Bangalore  2008-04-18  Kolkata Knight Riders   \n",
       "1   2    2008  Chandigarh  2008-04-19    Chennai Super Kings   \n",
       "2   3    2008       Delhi  2008-04-19       Rajasthan Royals   \n",
       "3   4    2008      Mumbai  2008-04-20         Mumbai Indians   \n",
       "4   5    2008     Kolkata  2008-04-20        Deccan Chargers   \n",
       "\n",
       "                         team2                  toss_winner toss_decision  \\\n",
       "0  Royal Challengers Bangalore  Royal Challengers Bangalore         field   \n",
       "1              Kings XI Punjab          Chennai Super Kings           bat   \n",
       "2             Delhi Daredevils             Rajasthan Royals           bat   \n",
       "3  Royal Challengers Bangalore               Mumbai Indians           bat   \n",
       "4        Kolkata Knight Riders              Deccan Chargers           bat   \n",
       "\n",
       "   result  dl_applied                       winner  win_by_runs  \\\n",
       "0  normal           0        Kolkata Knight Riders          140   \n",
       "1  normal           0          Chennai Super Kings           33   \n",
       "2  normal           0             Delhi Daredevils            0   \n",
       "3  normal           0  Royal Challengers Bangalore            0   \n",
       "4  normal           0        Kolkata Knight Riders            0   \n",
       "\n",
       "   win_by_wickets player_of_match                                       venue  \\\n",
       "0               0     BB McCullum                       M Chinnaswamy Stadium   \n",
       "1               0      MEK Hussey  Punjab Cricket Association Stadium, Mohali   \n",
       "2               9     MF Maharoof                            Feroz Shah Kotla   \n",
       "3               5      MV Boucher                            Wankhede Stadium   \n",
       "4               5       DJ Hussey                                Eden Gardens   \n",
       "\n",
       "     umpire1         umpire2  umpire3  \n",
       "0  Asad Rauf     RE Koertzen      NaN  \n",
       "1  MR Benson      SL Shastri      NaN  \n",
       "2  Aleem Dar  GA Pratapkumar      NaN  \n",
       "3   SJ Davis       DJ Harper      NaN  \n",
       "4  BF Bowden     K Hariharan      NaN  "
      ]
     },
     "execution_count": 30,
     "metadata": {},
     "output_type": "execute_result"
    }
   ],
   "source": [
    "# Team Comparisons\n",
    "match_data.head()"
   ]
  },
  {
   "cell_type": "code",
   "execution_count": 31,
   "id": "0a369ff7",
   "metadata": {
    "ExecuteTime": {
     "end_time": "2021-10-19T04:17:41.199567Z",
     "start_time": "2021-10-19T04:17:41.192564Z"
    }
   },
   "outputs": [],
   "source": [
    "def compare(team1):\n",
    "    teams = list(match_data.team1.unique())\n",
    "\n",
    "    # Remove team1\n",
    "    teams.remove(team1)\n",
    "\n",
    "    # make a list of all oppenents\n",
    "    opponents = teams.copy()\n",
    "\n",
    "    # Collect data from match data where team one played\n",
    "    mt1 = match_data[((match_data['team1'] == team1) |\n",
    "                      (match_data['team2'] == team1))]\n",
    "\n",
    "    for t in opponents:\n",
    "        mask = (((mt1['team1'] == t) | (mt1['team2'] == t))) & (\n",
    "            (mt1['team1'] == team1) | (mt1['team2'] == team1))\n",
    "        mt2 = mt1.loc[mask, 'winner'].value_counts().to_frame().T\n",
    "        print(mt2)"
   ]
  },
  {
   "cell_type": "code",
   "execution_count": 33,
   "id": "27491668",
   "metadata": {
    "ExecuteTime": {
     "end_time": "2021-10-19T04:18:49.954832Z",
     "start_time": "2021-10-19T04:18:49.877776Z"
    }
   },
   "outputs": [
    {
     "name": "stdout",
     "output_type": "stream",
     "text": [
      "        Chennai Super Kings  Kolkata Knight Riders\n",
      "winner                   10                      6\n",
      "        Chennai Super Kings  Rajasthan Royals\n",
      "winner                   11                 6\n",
      "        Mumbai Indians  Chennai Super Kings\n",
      "winner              12                   10\n",
      "        Chennai Super Kings  Deccan Chargers\n",
      "winner                    6                4\n",
      "        Chennai Super Kings  Kings XI Punjab\n",
      "winner                   10                7\n",
      "        Chennai Super Kings  Royal Challengers Bangalore\n",
      "winner                   12                            7\n",
      "        Chennai Super Kings  Delhi Daredevils\n",
      "winner                   11                 5\n",
      "        Kochi Tuskers Kerala  Chennai Super Kings\n",
      "winner                     1                    1\n",
      "        Chennai Super Kings  Pune Warriors\n",
      "winner                    4              2\n",
      "        Chennai Super Kings  Sunrisers Hyderabad\n",
      "winner                    4                    2\n",
      "Empty DataFrame\n",
      "Columns: []\n",
      "Index: [winner]\n",
      "Empty DataFrame\n",
      "Columns: []\n",
      "Index: [winner]\n"
     ]
    }
   ],
   "source": [
    "compare('Chennai Super Kings')"
   ]
  },
  {
   "cell_type": "code",
   "execution_count": 34,
   "id": "67226f28",
   "metadata": {
    "ExecuteTime": {
     "end_time": "2021-10-19T04:23:06.373797Z",
     "start_time": "2021-10-19T04:23:06.298745Z"
    }
   },
   "outputs": [
    {
     "name": "stdout",
     "output_type": "stream",
     "text": [
      "        Rajasthan Royals  Kolkata Knight Riders\n",
      "winner                 9                      6\n",
      "        Chennai Super Kings  Rajasthan Royals\n",
      "winner                   11                 6\n",
      "        Mumbai Indians  Rajasthan Royals\n",
      "winner              10                 6\n",
      "        Rajasthan Royals  Deccan Chargers\n",
      "winner                 7                2\n",
      "        Rajasthan Royals  Kings XI Punjab\n",
      "winner                 9                6\n",
      "        Royal Challengers Bangalore  Rajasthan Royals\n",
      "winner                            8                 7\n",
      "        Rajasthan Royals  Delhi Daredevils\n",
      "winner                10                 6\n",
      "        Kochi Tuskers Kerala  Rajasthan Royals\n",
      "winner                     1                 1\n",
      "        Rajasthan Royals  Pune Warriors\n",
      "winner                 4              1\n",
      "        Rajasthan Royals  Sunrisers Hyderabad\n",
      "winner                 4                    3\n",
      "Empty DataFrame\n",
      "Columns: []\n",
      "Index: [winner]\n",
      "Empty DataFrame\n",
      "Columns: []\n",
      "Index: [winner]\n"
     ]
    }
   ],
   "source": [
    "compare('Rajasthan Royals')"
   ]
  },
  {
   "cell_type": "code",
   "execution_count": null,
   "id": "e781127b",
   "metadata": {},
   "outputs": [],
   "source": []
  }
 ],
 "metadata": {
  "kernelspec": {
   "display_name": "Python 3 (ipykernel)",
   "language": "python",
   "name": "python3"
  },
  "language_info": {
   "codemirror_mode": {
    "name": "ipython",
    "version": 3
   },
   "file_extension": ".py",
   "mimetype": "text/x-python",
   "name": "python",
   "nbconvert_exporter": "python",
   "pygments_lexer": "ipython3",
   "version": "3.8.12"
  },
  "varInspector": {
   "cols": {
    "lenName": 16,
    "lenType": 16,
    "lenVar": 40
   },
   "kernels_config": {
    "python": {
     "delete_cmd_postfix": "",
     "delete_cmd_prefix": "del ",
     "library": "var_list.py",
     "varRefreshCmd": "print(var_dic_list())"
    },
    "r": {
     "delete_cmd_postfix": ") ",
     "delete_cmd_prefix": "rm(",
     "library": "var_list.r",
     "varRefreshCmd": "cat(var_dic_list()) "
    }
   },
   "types_to_exclude": [
    "module",
    "function",
    "builtin_function_or_method",
    "instance",
    "_Feature"
   ],
   "window_display": false
  }
 },
 "nbformat": 4,
 "nbformat_minor": 5
}
