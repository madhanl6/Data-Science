{
 "cells": [
  {
   "cell_type": "markdown",
   "id": "456066ce",
   "metadata": {},
   "source": [
    "Importing the Packages\n"
   ]
  },
  {
   "cell_type": "code",
   "execution_count": 646,
   "id": "25aba4d4",
   "metadata": {
    "ExecuteTime": {
     "end_time": "2021-08-19T15:22:53.567196Z",
     "start_time": "2021-08-19T15:22:53.564194Z"
    }
   },
   "outputs": [],
   "source": [
    "import numpy as np"
   ]
  },
  {
   "cell_type": "code",
   "execution_count": 647,
   "id": "b16395ec",
   "metadata": {
    "ExecuteTime": {
     "end_time": "2021-08-19T15:22:54.048513Z",
     "start_time": "2021-08-19T15:22:54.045510Z"
    }
   },
   "outputs": [],
   "source": [
    "np.set_printoptions(suppress=True, linewidth=100, precision=2)"
   ]
  },
  {
   "cell_type": "markdown",
   "id": "feef6888",
   "metadata": {},
   "source": [
    "Importing the Data"
   ]
  },
  {
   "cell_type": "code",
   "execution_count": 648,
   "id": "a16844b6",
   "metadata": {
    "ExecuteTime": {
     "end_time": "2021-08-19T15:22:55.160951Z",
     "start_time": "2021-08-19T15:22:54.895325Z"
    }
   },
   "outputs": [
    {
     "data": {
      "text/plain": [
       "array([[48010226.  ,         nan,    35000.  , ...,         nan,         nan,     9452.96],\n",
       "       [57693261.  ,         nan,    30000.  , ...,         nan,         nan,     4679.7 ],\n",
       "       [59432726.  ,         nan,    15000.  , ...,         nan,         nan,     1969.83],\n",
       "       ...,\n",
       "       [50415990.  ,         nan,    10000.  , ...,         nan,         nan,     2185.64],\n",
       "       [46154151.  ,         nan,         nan, ...,         nan,         nan,     3199.4 ],\n",
       "       [66055249.  ,         nan,    10000.  , ...,         nan,         nan,      301.9 ]])"
      ]
     },
     "execution_count": 648,
     "metadata": {},
     "output_type": "execute_result"
    }
   ],
   "source": [
    "data = np.genfromtxt('loan-data.csv', delimiter=';',\n",
    "                     skip_header=1, autostrip=True)\n",
    "data"
   ]
  },
  {
   "cell_type": "markdown",
   "id": "d565ea80",
   "metadata": {},
   "source": [
    "Checking for incomplete data"
   ]
  },
  {
   "cell_type": "code",
   "execution_count": 649,
   "id": "0320a0cc",
   "metadata": {
    "ExecuteTime": {
     "end_time": "2021-08-19T15:22:55.712376Z",
     "start_time": "2021-08-19T15:22:55.706375Z"
    }
   },
   "outputs": [
    {
     "data": {
      "text/plain": [
       "88005"
      ]
     },
     "execution_count": 649,
     "metadata": {},
     "output_type": "execute_result"
    }
   ],
   "source": [
    "np.isnan(data).sum()"
   ]
  },
  {
   "cell_type": "code",
   "execution_count": 650,
   "id": "c8d8e015",
   "metadata": {
    "ExecuteTime": {
     "end_time": "2021-08-19T15:22:56.037214Z",
     "start_time": "2021-08-19T15:22:56.027207Z"
    }
   },
   "outputs": [
    {
     "name": "stderr",
     "output_type": "stream",
     "text": [
      "<ipython-input-650-a4573aee14fb>:2: RuntimeWarning: Mean of empty slice\n",
      "  temperory_mean = np.nanmean(data, axis=0)\n"
     ]
    }
   ],
   "source": [
    "temperory_fill = np.nanmax(data) + 1\n",
    "temperory_mean = np.nanmean(data, axis=0)"
   ]
  },
  {
   "cell_type": "code",
   "execution_count": 651,
   "id": "70efda89",
   "metadata": {
    "ExecuteTime": {
     "end_time": "2021-08-19T15:22:56.298101Z",
     "start_time": "2021-08-19T15:22:56.292095Z"
    }
   },
   "outputs": [
    {
     "data": {
      "text/plain": [
       "68616520.0"
      ]
     },
     "execution_count": 651,
     "metadata": {},
     "output_type": "execute_result"
    }
   ],
   "source": [
    "temperory_fill"
   ]
  },
  {
   "cell_type": "code",
   "execution_count": 652,
   "id": "21c8b317",
   "metadata": {
    "ExecuteTime": {
     "end_time": "2021-08-19T15:22:56.554281Z",
     "start_time": "2021-08-19T15:22:56.548278Z"
    }
   },
   "outputs": [
    {
     "data": {
      "text/plain": [
       "array([54015809.19,         nan,    15273.46,         nan,    15311.04,         nan,       16.62,\n",
       "            440.92,         nan,         nan,         nan,         nan,         nan,     3143.85])"
      ]
     },
     "execution_count": 652,
     "metadata": {},
     "output_type": "execute_result"
    }
   ],
   "source": [
    "temperory_mean"
   ]
  },
  {
   "cell_type": "code",
   "execution_count": 653,
   "id": "57e44c47",
   "metadata": {
    "ExecuteTime": {
     "end_time": "2021-08-19T15:22:56.797715Z",
     "start_time": "2021-08-19T15:22:56.789707Z"
    }
   },
   "outputs": [
    {
     "name": "stderr",
     "output_type": "stream",
     "text": [
      "<ipython-input-653-d14ddd6dd982>:1: RuntimeWarning: All-NaN slice encountered\n",
      "  temperory_stats = np.array([np.nanmin(data, axis=0),\n",
      "<ipython-input-653-d14ddd6dd982>:3: RuntimeWarning: All-NaN slice encountered\n",
      "  np.nanmax(data, axis=0)])\n"
     ]
    }
   ],
   "source": [
    "temperory_stats = np.array([np.nanmin(data, axis=0),\n",
    "                           temperory_mean,\n",
    "                           np.nanmax(data, axis=0)])"
   ]
  },
  {
   "cell_type": "code",
   "execution_count": 654,
   "id": "6dae5164",
   "metadata": {
    "ExecuteTime": {
     "end_time": "2021-08-19T15:22:57.018705Z",
     "start_time": "2021-08-19T15:22:57.013701Z"
    }
   },
   "outputs": [
    {
     "data": {
      "text/plain": [
       "array([[  373332.  ,         nan,     1000.  ,         nan,     1000.  ,         nan,        6.  ,\n",
       "              31.42,         nan,         nan,         nan,         nan,         nan,        0.  ],\n",
       "       [54015809.19,         nan,    15273.46,         nan,    15311.04,         nan,       16.62,\n",
       "             440.92,         nan,         nan,         nan,         nan,         nan,     3143.85],\n",
       "       [68616519.  ,         nan,    35000.  ,         nan,    35000.  ,         nan,       28.99,\n",
       "            1372.97,         nan,         nan,         nan,         nan,         nan,    41913.62]])"
      ]
     },
     "execution_count": 654,
     "metadata": {},
     "output_type": "execute_result"
    }
   ],
   "source": [
    "temperory_stats"
   ]
  },
  {
   "cell_type": "markdown",
   "id": "e87c86a2",
   "metadata": {},
   "source": [
    "Splitting the Dataset"
   ]
  },
  {
   "cell_type": "code",
   "execution_count": 655,
   "id": "7b6376e4",
   "metadata": {
    "ExecuteTime": {
     "end_time": "2021-08-19T15:22:57.392111Z",
     "start_time": "2021-08-19T15:22:57.387109Z"
    }
   },
   "outputs": [
    {
     "data": {
      "text/plain": [
       "array([ 1,  3,  5,  8,  9, 10, 11, 12], dtype=int64)"
      ]
     },
     "execution_count": 655,
     "metadata": {},
     "output_type": "execute_result"
    }
   ],
   "source": [
    "column_strings = np.argwhere(np.isnan(temperory_mean)).squeeze()\n",
    "column_strings"
   ]
  },
  {
   "cell_type": "code",
   "execution_count": 656,
   "id": "b9cbacc3",
   "metadata": {
    "ExecuteTime": {
     "end_time": "2021-08-19T15:22:57.721378Z",
     "start_time": "2021-08-19T15:22:57.715375Z"
    }
   },
   "outputs": [
    {
     "data": {
      "text/plain": [
       "array([ 0,  2,  4,  6,  7, 13], dtype=int64)"
      ]
     },
     "execution_count": 656,
     "metadata": {},
     "output_type": "execute_result"
    }
   ],
   "source": [
    "column_numeric = np.argwhere(np.isnan(temperory_mean) == False).squeeze()\n",
    "column_numeric"
   ]
  },
  {
   "cell_type": "markdown",
   "id": "e9ee5a9d",
   "metadata": {},
   "source": [
    "Reimporting the Dataset and splitting it into 2 smaller arrays"
   ]
  },
  {
   "cell_type": "code",
   "execution_count": 657,
   "id": "df176496",
   "metadata": {
    "ExecuteTime": {
     "end_time": "2021-08-19T15:22:58.365650Z",
     "start_time": "2021-08-19T15:22:58.161740Z"
    }
   },
   "outputs": [
    {
     "data": {
      "text/plain": [
       "array([['May-15', 'Current', '36 months', ..., 'Verified',\n",
       "        'https://www.lendingclub.com/browse/loanDetail.action?loan_id=48010226', 'CA'],\n",
       "       ['', 'Current', '36 months', ..., 'Source Verified',\n",
       "        'https://www.lendingclub.com/browse/loanDetail.action?loan_id=57693261', 'NY'],\n",
       "       ['Sep-15', 'Current', '36 months', ..., 'Verified',\n",
       "        'https://www.lendingclub.com/browse/loanDetail.action?loan_id=59432726', 'PA'],\n",
       "       ...,\n",
       "       ['Jun-15', 'Current', '36 months', ..., 'Source Verified',\n",
       "        'https://www.lendingclub.com/browse/loanDetail.action?loan_id=50415990', 'CA'],\n",
       "       ['Apr-15', 'Current', '36 months', ..., 'Source Verified',\n",
       "        'https://www.lendingclub.com/browse/loanDetail.action?loan_id=46154151', 'OH'],\n",
       "       ['Dec-15', 'Current', '36 months', ..., '',\n",
       "        'https://www.lendingclub.com/browse/loanDetail.action?loan_id=66055249', 'IL']],\n",
       "      dtype='<U69')"
      ]
     },
     "execution_count": 657,
     "metadata": {},
     "output_type": "execute_result"
    }
   ],
   "source": [
    "# The string dataset\n",
    "data_strings = np.genfromtxt('loan-data.csv', delimiter=';',\n",
    "                             skip_header=1, autostrip=True, usecols=column_strings, dtype=str)\n",
    "data_strings"
   ]
  },
  {
   "cell_type": "code",
   "execution_count": 658,
   "id": "1c4e1b87",
   "metadata": {
    "ExecuteTime": {
     "end_time": "2021-08-19T15:22:58.553785Z",
     "start_time": "2021-08-19T15:22:58.397674Z"
    }
   },
   "outputs": [
    {
     "data": {
      "text/plain": [
       "array([[48010226.  ,    35000.  ,    35000.  ,       13.33,     1184.86,     9452.96],\n",
       "       [57693261.  ,    30000.  ,    30000.  , 68616520.  ,      938.57,     4679.7 ],\n",
       "       [59432726.  ,    15000.  ,    15000.  , 68616520.  ,      494.86,     1969.83],\n",
       "       ...,\n",
       "       [50415990.  ,    10000.  ,    10000.  , 68616520.  , 68616520.  ,     2185.64],\n",
       "       [46154151.  , 68616520.  ,    10000.  ,       16.55,      354.3 ,     3199.4 ],\n",
       "       [66055249.  ,    10000.  ,    10000.  , 68616520.  ,      309.97,      301.9 ]])"
      ]
     },
     "execution_count": 658,
     "metadata": {},
     "output_type": "execute_result"
    }
   ],
   "source": [
    "# The numeric dataset\n",
    "data_numeric = np.genfromtxt('loan-data.csv', delimiter=';', skip_header=1,\n",
    "                             autostrip=True, usecols=column_numeric, filling_values=temperory_fill)\n",
    "data_numeric"
   ]
  },
  {
   "cell_type": "markdown",
   "id": "73995794",
   "metadata": {},
   "source": [
    "Name of the Columns"
   ]
  },
  {
   "cell_type": "code",
   "execution_count": 659,
   "id": "ccd6c813",
   "metadata": {
    "ExecuteTime": {
     "end_time": "2021-08-19T15:22:59.013292Z",
     "start_time": "2021-08-19T15:22:58.881184Z"
    }
   },
   "outputs": [
    {
     "data": {
      "text/plain": [
       "array(['id', 'issue_d', 'loan_amnt', 'loan_status', 'funded_amnt', 'term', 'int_rate',\n",
       "       'installment', 'grade', 'sub_grade', 'verification_status', 'url', 'addr_state',\n",
       "       'total_pymnt'], dtype='<U19')"
      ]
     },
     "execution_count": 659,
     "metadata": {},
     "output_type": "execute_result"
    }
   ],
   "source": [
    "header_full = np.genfromtxt('loan-data.csv', delimiter=';',\n",
    "                            autostrip=True,skip_footer=data.shape[0], dtype=str)\n",
    "header_full"
   ]
  },
  {
   "cell_type": "code",
   "execution_count": 660,
   "id": "871e0baa",
   "metadata": {
    "ExecuteTime": {
     "end_time": "2021-08-19T15:22:59.096337Z",
     "start_time": "2021-08-19T15:22:59.092334Z"
    }
   },
   "outputs": [],
   "source": [
    "header_strings,header_numeric = header_full[column_strings],header_full[column_numeric]"
   ]
  },
  {
   "cell_type": "code",
   "execution_count": 661,
   "id": "cfc8f0c3",
   "metadata": {
    "ExecuteTime": {
     "end_time": "2021-08-19T15:22:59.349481Z",
     "start_time": "2021-08-19T15:22:59.343478Z"
    }
   },
   "outputs": [
    {
     "data": {
      "text/plain": [
       "array(['issue_d', 'loan_status', 'term', 'grade', 'sub_grade', 'verification_status', 'url',\n",
       "       'addr_state'], dtype='<U19')"
      ]
     },
     "execution_count": 661,
     "metadata": {},
     "output_type": "execute_result"
    }
   ],
   "source": [
    "header_strings"
   ]
  },
  {
   "cell_type": "code",
   "execution_count": 662,
   "id": "525ad3c2",
   "metadata": {
    "ExecuteTime": {
     "end_time": "2021-08-19T15:22:59.584989Z",
     "start_time": "2021-08-19T15:22:59.577985Z"
    }
   },
   "outputs": [
    {
     "data": {
      "text/plain": [
       "array(['id', 'loan_amnt', 'funded_amnt', 'int_rate', 'installment', 'total_pymnt'], dtype='<U19')"
      ]
     },
     "execution_count": 662,
     "metadata": {},
     "output_type": "execute_result"
    }
   ],
   "source": [
    "header_numeric"
   ]
  },
  {
   "cell_type": "markdown",
   "id": "0ea13d07",
   "metadata": {},
   "source": [
    "Creating Checkpoints"
   ]
  },
  {
   "cell_type": "code",
   "execution_count": 663,
   "id": "3c594a1c",
   "metadata": {
    "ExecuteTime": {
     "end_time": "2021-08-19T15:22:59.992245Z",
     "start_time": "2021-08-19T15:22:59.988241Z"
    }
   },
   "outputs": [],
   "source": [
    "def checkpoint(file_name,checkpoint_header,checkpoint_data):\n",
    "    np.savez(file_name,header = checkpoint_header,data = checkpoint_data)\n",
    "    checkpoint_variable = np.load(file_name+\".npz\")\n",
    "    return(checkpoint_variable)"
   ]
  },
  {
   "cell_type": "code",
   "execution_count": 664,
   "id": "257a25be",
   "metadata": {
    "ExecuteTime": {
     "end_time": "2021-08-19T15:23:00.313475Z",
     "start_time": "2021-08-19T15:23:00.196391Z"
    }
   },
   "outputs": [],
   "source": [
    "checkpoint_test = checkpoint(\"checkpoint_test\",header_strings,data_strings)"
   ]
  },
  {
   "cell_type": "code",
   "execution_count": 665,
   "id": "41a4366c",
   "metadata": {
    "ExecuteTime": {
     "end_time": "2021-08-19T15:23:00.436819Z",
     "start_time": "2021-08-19T15:23:00.429817Z"
    }
   },
   "outputs": [
    {
     "data": {
      "text/plain": [
       "array(['issue_d', 'loan_status', 'term', 'grade', 'sub_grade', 'verification_status', 'url',\n",
       "       'addr_state'], dtype='<U19')"
      ]
     },
     "execution_count": 665,
     "metadata": {},
     "output_type": "execute_result"
    }
   ],
   "source": [
    "checkpoint_test['header']"
   ]
  },
  {
   "cell_type": "code",
   "execution_count": 666,
   "id": "6489b234",
   "metadata": {
    "ExecuteTime": {
     "end_time": "2021-08-19T15:23:00.781066Z",
     "start_time": "2021-08-19T15:23:00.664982Z"
    }
   },
   "outputs": [
    {
     "data": {
      "text/plain": [
       "array([['May-15', 'Current', '36 months', ..., 'Verified',\n",
       "        'https://www.lendingclub.com/browse/loanDetail.action?loan_id=48010226', 'CA'],\n",
       "       ['', 'Current', '36 months', ..., 'Source Verified',\n",
       "        'https://www.lendingclub.com/browse/loanDetail.action?loan_id=57693261', 'NY'],\n",
       "       ['Sep-15', 'Current', '36 months', ..., 'Verified',\n",
       "        'https://www.lendingclub.com/browse/loanDetail.action?loan_id=59432726', 'PA'],\n",
       "       ...,\n",
       "       ['Jun-15', 'Current', '36 months', ..., 'Source Verified',\n",
       "        'https://www.lendingclub.com/browse/loanDetail.action?loan_id=50415990', 'CA'],\n",
       "       ['Apr-15', 'Current', '36 months', ..., 'Source Verified',\n",
       "        'https://www.lendingclub.com/browse/loanDetail.action?loan_id=46154151', 'OH'],\n",
       "       ['Dec-15', 'Current', '36 months', ..., '',\n",
       "        'https://www.lendingclub.com/browse/loanDetail.action?loan_id=66055249', 'IL']],\n",
       "      dtype='<U69')"
      ]
     },
     "execution_count": 666,
     "metadata": {},
     "output_type": "execute_result"
    }
   ],
   "source": [
    "checkpoint_test['data']"
   ]
  },
  {
   "cell_type": "code",
   "execution_count": 667,
   "id": "a4ac9ca4",
   "metadata": {
    "ExecuteTime": {
     "end_time": "2021-08-19T15:23:01.055258Z",
     "start_time": "2021-08-19T15:23:00.916160Z"
    }
   },
   "outputs": [
    {
     "data": {
      "text/plain": [
       "True"
      ]
     },
     "execution_count": 667,
     "metadata": {},
     "output_type": "execute_result"
    }
   ],
   "source": [
    "np.array_equal(checkpoint_test['data'],data_strings)"
   ]
  },
  {
   "cell_type": "markdown",
   "id": "dc5dc5d2",
   "metadata": {},
   "source": [
    "Manipulating String Columns"
   ]
  },
  {
   "cell_type": "code",
   "execution_count": 668,
   "id": "b590759c",
   "metadata": {
    "ExecuteTime": {
     "end_time": "2021-08-19T15:23:01.583250Z",
     "start_time": "2021-08-19T15:23:01.575226Z"
    }
   },
   "outputs": [
    {
     "data": {
      "text/plain": [
       "array(['issue_d', 'loan_status', 'term', 'grade', 'sub_grade', 'verification_status', 'url',\n",
       "       'addr_state'], dtype='<U19')"
      ]
     },
     "execution_count": 668,
     "metadata": {},
     "output_type": "execute_result"
    }
   ],
   "source": [
    "header_strings"
   ]
  },
  {
   "cell_type": "code",
   "execution_count": 669,
   "id": "ae532f42",
   "metadata": {
    "ExecuteTime": {
     "end_time": "2021-08-19T15:23:02.065093Z",
     "start_time": "2021-08-19T15:23:02.062091Z"
    }
   },
   "outputs": [],
   "source": [
    "header_strings[0]= 'issue_date'"
   ]
  },
  {
   "cell_type": "code",
   "execution_count": 670,
   "id": "eee2492d",
   "metadata": {
    "ExecuteTime": {
     "end_time": "2021-08-19T15:23:04.002605Z",
     "start_time": "2021-08-19T15:23:03.997623Z"
    }
   },
   "outputs": [
    {
     "data": {
      "text/plain": [
       "array([['May-15', 'Current', '36 months', ..., 'Verified',\n",
       "        'https://www.lendingclub.com/browse/loanDetail.action?loan_id=48010226', 'CA'],\n",
       "       ['', 'Current', '36 months', ..., 'Source Verified',\n",
       "        'https://www.lendingclub.com/browse/loanDetail.action?loan_id=57693261', 'NY'],\n",
       "       ['Sep-15', 'Current', '36 months', ..., 'Verified',\n",
       "        'https://www.lendingclub.com/browse/loanDetail.action?loan_id=59432726', 'PA'],\n",
       "       ...,\n",
       "       ['Jun-15', 'Current', '36 months', ..., 'Source Verified',\n",
       "        'https://www.lendingclub.com/browse/loanDetail.action?loan_id=50415990', 'CA'],\n",
       "       ['Apr-15', 'Current', '36 months', ..., 'Source Verified',\n",
       "        'https://www.lendingclub.com/browse/loanDetail.action?loan_id=46154151', 'OH'],\n",
       "       ['Dec-15', 'Current', '36 months', ..., '',\n",
       "        'https://www.lendingclub.com/browse/loanDetail.action?loan_id=66055249', 'IL']],\n",
       "      dtype='<U69')"
      ]
     },
     "execution_count": 670,
     "metadata": {},
     "output_type": "execute_result"
    }
   ],
   "source": [
    "data_strings"
   ]
  },
  {
   "cell_type": "markdown",
   "id": "cbc83869",
   "metadata": {},
   "source": [
    "Issue Date"
   ]
  },
  {
   "cell_type": "code",
   "execution_count": 671,
   "id": "d6370c52",
   "metadata": {
    "ExecuteTime": {
     "end_time": "2021-08-19T15:23:05.368620Z",
     "start_time": "2021-08-19T15:23:05.351609Z"
    }
   },
   "outputs": [
    {
     "data": {
      "text/plain": [
       "array(['', 'Apr-15', 'Aug-15', 'Dec-15', 'Feb-15', 'Jan-15', 'Jul-15', 'Jun-15', 'Mar-15',\n",
       "       'May-15', 'Nov-15', 'Oct-15', 'Sep-15'], dtype='<U69')"
      ]
     },
     "execution_count": 671,
     "metadata": {},
     "output_type": "execute_result"
    }
   ],
   "source": [
    "np.unique(data_strings[:, 0])"
   ]
  },
  {
   "cell_type": "code",
   "execution_count": 672,
   "id": "ac537eb1",
   "metadata": {
    "ExecuteTime": {
     "end_time": "2021-08-19T15:23:06.038468Z",
     "start_time": "2021-08-19T15:23:06.010449Z"
    }
   },
   "outputs": [],
   "source": [
    "data_strings[:, 0] = np.chararray.strip(data_strings[:, 0], \"-15\")"
   ]
  },
  {
   "cell_type": "code",
   "execution_count": 673,
   "id": "8048e3b3",
   "metadata": {
    "ExecuteTime": {
     "end_time": "2021-08-19T15:23:06.688271Z",
     "start_time": "2021-08-19T15:23:06.667259Z"
    }
   },
   "outputs": [
    {
     "data": {
      "text/plain": [
       "array(['', 'Apr', 'Aug', 'Dec', 'Feb', 'Jan', 'Jul', 'Jun', 'Mar', 'May', 'Nov', 'Oct', 'Sep'],\n",
       "      dtype='<U69')"
      ]
     },
     "execution_count": 673,
     "metadata": {},
     "output_type": "execute_result"
    }
   ],
   "source": [
    "np.unique(data_strings[:, 0])"
   ]
  },
  {
   "cell_type": "code",
   "execution_count": 674,
   "id": "8dfe4f86",
   "metadata": {
    "ExecuteTime": {
     "end_time": "2021-08-19T15:23:08.685150Z",
     "start_time": "2021-08-19T15:23:08.682150Z"
    }
   },
   "outputs": [],
   "source": [
    "months = np.array(['','Jan','Feb','Mar','Apr','May','Jun','Jul','Aug','Sep','Oct','Nov','Dec'])"
   ]
  },
  {
   "cell_type": "code",
   "execution_count": 675,
   "id": "cfa4868a",
   "metadata": {
    "ExecuteTime": {
     "end_time": "2021-08-19T15:23:09.322536Z",
     "start_time": "2021-08-19T15:23:09.256490Z"
    }
   },
   "outputs": [],
   "source": [
    "for i in range(13):\n",
    "    data_strings[:, 0] = np.where(data_strings[:, 0] == months[i],\n",
    "                                  i,\n",
    "                                  data_strings[:, 0])"
   ]
  },
  {
   "cell_type": "code",
   "execution_count": 676,
   "id": "1d7188ec",
   "metadata": {
    "ExecuteTime": {
     "end_time": "2021-08-19T15:23:12.007969Z",
     "start_time": "2021-08-19T15:23:11.990937Z"
    }
   },
   "outputs": [
    {
     "data": {
      "text/plain": [
       "array(['0', '1', '10', '11', '12', '2', '3', '4', '5', '6', '7', '8', '9'], dtype='<U69')"
      ]
     },
     "execution_count": 676,
     "metadata": {},
     "output_type": "execute_result"
    }
   ],
   "source": [
    "np.unique(data_strings[:, 0])"
   ]
  },
  {
   "cell_type": "markdown",
   "id": "74579bce",
   "metadata": {},
   "source": [
    "Loan Status"
   ]
  },
  {
   "cell_type": "code",
   "execution_count": 677,
   "id": "b9fe4623",
   "metadata": {
    "ExecuteTime": {
     "end_time": "2021-08-19T15:23:13.193293Z",
     "start_time": "2021-08-19T15:23:13.187271Z"
    }
   },
   "outputs": [
    {
     "data": {
      "text/plain": [
       "array(['issue_date', 'loan_status', 'term', 'grade', 'sub_grade', 'verification_status', 'url',\n",
       "       'addr_state'], dtype='<U19')"
      ]
     },
     "execution_count": 677,
     "metadata": {},
     "output_type": "execute_result"
    }
   ],
   "source": [
    "header_strings"
   ]
  },
  {
   "cell_type": "code",
   "execution_count": 678,
   "id": "50a752e6",
   "metadata": {
    "ExecuteTime": {
     "end_time": "2021-08-19T15:23:13.806490Z",
     "start_time": "2021-08-19T15:23:13.786455Z"
    }
   },
   "outputs": [
    {
     "data": {
      "text/plain": [
       "array(['', 'Charged Off', 'Current', 'Default', 'Fully Paid', 'In Grace Period', 'Issued',\n",
       "       'Late (16-30 days)', 'Late (31-120 days)'], dtype='<U69')"
      ]
     },
     "execution_count": 678,
     "metadata": {},
     "output_type": "execute_result"
    }
   ],
   "source": [
    "np.unique(data_strings[:, 1])\n",
    "#Here the data are catergorized as\n",
    "#good(Current/Fully Paid/In Grace Period/Issued/Late (16-30 days)-->short period latency is safe)<--->1\n",
    "#bad(''/Charged Off/Default/Late (31-120 days)-->long period latency is unsafe)<--->0"
   ]
  },
  {
   "cell_type": "code",
   "execution_count": 679,
   "id": "dcc3ba04",
   "metadata": {
    "ExecuteTime": {
     "end_time": "2021-08-19T15:23:14.966706Z",
     "start_time": "2021-08-19T15:23:14.947672Z"
    }
   },
   "outputs": [
    {
     "data": {
      "text/plain": [
       "9"
      ]
     },
     "execution_count": 679,
     "metadata": {},
     "output_type": "execute_result"
    }
   ],
   "source": [
    "np.unique(data_strings[:, 1]).size"
   ]
  },
  {
   "cell_type": "code",
   "execution_count": 680,
   "id": "3fe0a259",
   "metadata": {
    "ExecuteTime": {
     "end_time": "2021-08-19T15:23:16.462083Z",
     "start_time": "2021-08-19T15:23:16.458101Z"
    }
   },
   "outputs": [],
   "source": [
    "status_bad = np.array(['', 'Charged Off', 'Default', 'Late (31-120 days)'])"
   ]
  },
  {
   "cell_type": "code",
   "execution_count": 681,
   "id": "d86091b5",
   "metadata": {
    "ExecuteTime": {
     "end_time": "2021-08-19T15:23:17.038643Z",
     "start_time": "2021-08-19T15:23:17.024635Z"
    }
   },
   "outputs": [],
   "source": [
    "data_strings[:, 1] = np.where(np.isin(data_strings[:, 1], status_bad), 0, 1)"
   ]
  },
  {
   "cell_type": "code",
   "execution_count": 682,
   "id": "c8853601",
   "metadata": {
    "ExecuteTime": {
     "end_time": "2021-08-19T15:23:17.585698Z",
     "start_time": "2021-08-19T15:23:17.561682Z"
    }
   },
   "outputs": [
    {
     "data": {
      "text/plain": [
       "array(['0', '1'], dtype='<U69')"
      ]
     },
     "execution_count": 682,
     "metadata": {},
     "output_type": "execute_result"
    }
   ],
   "source": [
    "np.unique(data_strings[:, 1])"
   ]
  },
  {
   "cell_type": "markdown",
   "id": "d59a2556",
   "metadata": {},
   "source": [
    "Term"
   ]
  },
  {
   "cell_type": "code",
   "execution_count": 683,
   "id": "24e99877",
   "metadata": {
    "ExecuteTime": {
     "end_time": "2021-08-19T15:23:24.712334Z",
     "start_time": "2021-08-19T15:23:24.690322Z"
    }
   },
   "outputs": [
    {
     "data": {
      "text/plain": [
       "array(['', '36 months', '60 months'], dtype='<U69')"
      ]
     },
     "execution_count": 683,
     "metadata": {},
     "output_type": "execute_result"
    }
   ],
   "source": [
    "np.unique(data_strings[:, 2])"
   ]
  },
  {
   "cell_type": "code",
   "execution_count": 684,
   "id": "add78f1d",
   "metadata": {
    "ExecuteTime": {
     "end_time": "2021-08-19T15:23:25.282671Z",
     "start_time": "2021-08-19T15:23:25.254652Z"
    }
   },
   "outputs": [
    {
     "data": {
      "text/plain": [
       "array(['36', '36', '36', ..., '36', '36', '36'], dtype='<U69')"
      ]
     },
     "execution_count": 684,
     "metadata": {},
     "output_type": "execute_result"
    }
   ],
   "source": [
    "data_strings[:, 2] = np.chararray.strip(data_strings[:, 2], \" months\")\n",
    "data_strings[:, 2]"
   ]
  },
  {
   "cell_type": "code",
   "execution_count": 685,
   "id": "e7ee5720",
   "metadata": {
    "ExecuteTime": {
     "end_time": "2021-08-19T15:23:27.715752Z",
     "start_time": "2021-08-19T15:23:27.711731Z"
    }
   },
   "outputs": [],
   "source": [
    "header_strings[2] = 'term_months'"
   ]
  },
  {
   "cell_type": "code",
   "execution_count": 686,
   "id": "84040e6a",
   "metadata": {
    "ExecuteTime": {
     "end_time": "2021-08-19T15:23:28.303602Z",
     "start_time": "2021-08-19T15:23:28.294598Z"
    }
   },
   "outputs": [],
   "source": [
    "data_strings[:, 2] = np.where(data_strings[:, 2] == '',\n",
    "                              '60',\n",
    "                              data_strings[:, 2])"
   ]
  },
  {
   "cell_type": "code",
   "execution_count": 687,
   "id": "4c9e71d9",
   "metadata": {
    "ExecuteTime": {
     "end_time": "2021-08-19T15:23:29.303278Z",
     "start_time": "2021-08-19T15:23:29.283265Z"
    }
   },
   "outputs": [
    {
     "data": {
      "text/plain": [
       "array(['36', '60'], dtype='<U69')"
      ]
     },
     "execution_count": 687,
     "metadata": {},
     "output_type": "execute_result"
    }
   ],
   "source": [
    "np.unique(data_strings[:,2]) #Since there is significance to the value, then it is not converted as 0 and 1"
   ]
  },
  {
   "cell_type": "markdown",
   "id": "29dc2727",
   "metadata": {},
   "source": [
    "Grade and Subgrade"
   ]
  },
  {
   "cell_type": "code",
   "execution_count": 688,
   "id": "e1e1dd11",
   "metadata": {
    "ExecuteTime": {
     "end_time": "2021-08-19T15:23:32.639726Z",
     "start_time": "2021-08-19T15:23:32.634725Z"
    }
   },
   "outputs": [
    {
     "data": {
      "text/plain": [
       "array(['issue_date', 'loan_status', 'term_months', 'grade', 'sub_grade', 'verification_status',\n",
       "       'url', 'addr_state'], dtype='<U19')"
      ]
     },
     "execution_count": 688,
     "metadata": {},
     "output_type": "execute_result"
    }
   ],
   "source": [
    "header_strings"
   ]
  },
  {
   "cell_type": "code",
   "execution_count": 689,
   "id": "7ca68e42",
   "metadata": {
    "ExecuteTime": {
     "end_time": "2021-08-19T15:23:33.232004Z",
     "start_time": "2021-08-19T15:23:33.212971Z"
    }
   },
   "outputs": [
    {
     "data": {
      "text/plain": [
       "array(['', 'A', 'B', 'C', 'D', 'E', 'F', 'G'], dtype='<U69')"
      ]
     },
     "execution_count": 689,
     "metadata": {},
     "output_type": "execute_result"
    }
   ],
   "source": [
    "np.unique(data_strings[:,3])"
   ]
  },
  {
   "cell_type": "code",
   "execution_count": 690,
   "id": "969b299d",
   "metadata": {
    "ExecuteTime": {
     "end_time": "2021-08-19T15:23:37.992435Z",
     "start_time": "2021-08-19T15:23:37.975424Z"
    }
   },
   "outputs": [
    {
     "data": {
      "text/plain": [
       "array(['', 'A1', 'A2', 'A3', 'A4', 'A5', 'B1', 'B2', 'B3', 'B4', 'B5', 'C1', 'C2', 'C3', 'C4',\n",
       "       'C5', 'D1', 'D2', 'D3', 'D4', 'D5', 'E1', 'E2', 'E3', 'E4', 'E5', 'F1', 'F2', 'F3', 'F4',\n",
       "       'F5', 'G1', 'G2', 'G3', 'G4', 'G5'], dtype='<U69')"
      ]
     },
     "execution_count": 690,
     "metadata": {},
     "output_type": "execute_result"
    }
   ],
   "source": [
    "np.unique(data_strings[:,4])"
   ]
  },
  {
   "cell_type": "markdown",
   "id": "a8da552c",
   "metadata": {
    "ExecuteTime": {
     "end_time": "2021-08-19T11:44:57.668986Z",
     "start_time": "2021-08-19T11:44:57.663982Z"
    }
   },
   "source": [
    "Filling sub grade"
   ]
  },
  {
   "cell_type": "code",
   "execution_count": 691,
   "id": "c5807c15",
   "metadata": {
    "ExecuteTime": {
     "end_time": "2021-08-19T15:23:40.776810Z",
     "start_time": "2021-08-19T15:23:40.721771Z"
    }
   },
   "outputs": [],
   "source": [
    "# The empty space has the id 0 and hence we are selecting from the id 1 and so on\n",
    "for i in np.unique(data_strings[:, 3])[1:]:\n",
    "    data_strings[:, 4] = np.where((data_strings[:, 4] == '') & (data_strings[:, 3] == i),\n",
    "                                  i+\"5\",\n",
    "                                  data_strings[:, 4])"
   ]
  },
  {
   "cell_type": "code",
   "execution_count": 692,
   "id": "33adda20",
   "metadata": {
    "ExecuteTime": {
     "end_time": "2021-08-19T15:23:41.178767Z",
     "start_time": "2021-08-19T15:23:41.159754Z"
    }
   },
   "outputs": [
    {
     "data": {
      "text/plain": [
       "(array(['', 'A1', 'A2', 'A3', 'A4', 'A5', 'B1', 'B2', 'B3', 'B4', 'B5', 'C1', 'C2', 'C3', 'C4',\n",
       "        'C5', 'D1', 'D2', 'D3', 'D4', 'D5', 'E1', 'E2', 'E3', 'E4', 'E5', 'F1', 'F2', 'F3', 'F4',\n",
       "        'F5', 'G1', 'G2', 'G3', 'G4', 'G5'], dtype='<U69'),\n",
       " array([  9, 285, 278, 239, 323, 592, 509, 517, 530, 553, 633, 629, 567, 586, 564, 577, 391, 267,\n",
       "        250, 255, 288, 235, 162, 171, 139, 160,  94,  52,  34,  43,  24,  19,  10,   3,   7,   5],\n",
       "       dtype=int64))"
      ]
     },
     "execution_count": 692,
     "metadata": {},
     "output_type": "execute_result"
    }
   ],
   "source": [
    "np.unique(data_strings[:, 4], return_counts=True)"
   ]
  },
  {
   "cell_type": "code",
   "execution_count": 693,
   "id": "16c1ad5f",
   "metadata": {
    "ExecuteTime": {
     "end_time": "2021-08-19T15:23:41.646470Z",
     "start_time": "2021-08-19T15:23:41.637465Z"
    }
   },
   "outputs": [],
   "source": [
    "# Since there is only 9 missing values,we could drop the values\n",
    "#We can assign a new grade for the missing value instead of dropping the values\n",
    "data_strings[:, 4] = np.where(data_strings[:, 4] == '',\n",
    "                              'H1',\n",
    "                              data_strings[:, 4])"
   ]
  },
  {
   "cell_type": "code",
   "execution_count": 694,
   "id": "ad3fe8b0",
   "metadata": {
    "ExecuteTime": {
     "end_time": "2021-08-19T15:23:42.199294Z",
     "start_time": "2021-08-19T15:23:42.180283Z"
    }
   },
   "outputs": [
    {
     "data": {
      "text/plain": [
       "array(['A1', 'A2', 'A3', 'A4', 'A5', 'B1', 'B2', 'B3', 'B4', 'B5', 'C1', 'C2', 'C3', 'C4', 'C5',\n",
       "       'D1', 'D2', 'D3', 'D4', 'D5', 'E1', 'E2', 'E3', 'E4', 'E5', 'F1', 'F2', 'F3', 'F4', 'F5',\n",
       "       'G1', 'G2', 'G3', 'G4', 'G5', 'H1'], dtype='<U69')"
      ]
     },
     "execution_count": 694,
     "metadata": {},
     "output_type": "execute_result"
    }
   ],
   "source": [
    "np.unique(data_strings[:, 4])"
   ]
  },
  {
   "cell_type": "markdown",
   "id": "444ce89e",
   "metadata": {},
   "source": [
    "Removing Grade"
   ]
  },
  {
   "cell_type": "code",
   "execution_count": 695,
   "id": "c85cd756",
   "metadata": {
    "ExecuteTime": {
     "end_time": "2021-08-19T15:23:43.149254Z",
     "start_time": "2021-08-19T15:23:43.123234Z"
    }
   },
   "outputs": [],
   "source": [
    "# Since the information contained in the grade is now carried in subgrade,we can drop the grade coloumn\n",
    "data_strings = np.delete(data_strings, 3, axis=1)"
   ]
  },
  {
   "cell_type": "code",
   "execution_count": 696,
   "id": "f63fe441",
   "metadata": {
    "ExecuteTime": {
     "end_time": "2021-08-19T15:23:43.682101Z",
     "start_time": "2021-08-19T15:23:43.677098Z"
    }
   },
   "outputs": [
    {
     "data": {
      "text/plain": [
       "array(['C3', 'A5', 'B5', ..., 'A5', 'D2', 'A4'], dtype='<U69')"
      ]
     },
     "execution_count": 696,
     "metadata": {},
     "output_type": "execute_result"
    }
   ],
   "source": [
    "data_strings[:, 3]"
   ]
  },
  {
   "cell_type": "code",
   "execution_count": 697,
   "id": "47758ff5",
   "metadata": {
    "ExecuteTime": {
     "end_time": "2021-08-19T15:23:44.267946Z",
     "start_time": "2021-08-19T15:23:44.264944Z"
    }
   },
   "outputs": [],
   "source": [
    "header_strings = np.delete(header_strings, 3)"
   ]
  },
  {
   "cell_type": "code",
   "execution_count": 698,
   "id": "11184c38",
   "metadata": {
    "ExecuteTime": {
     "end_time": "2021-08-19T15:23:45.036056Z",
     "start_time": "2021-08-19T15:23:45.031053Z"
    }
   },
   "outputs": [
    {
     "data": {
      "text/plain": [
       "'sub_grade'"
      ]
     },
     "execution_count": 698,
     "metadata": {},
     "output_type": "execute_result"
    }
   ],
   "source": [
    "header_strings[3]"
   ]
  },
  {
   "cell_type": "markdown",
   "id": "b5d615ac",
   "metadata": {},
   "source": [
    "Converting sub grade"
   ]
  },
  {
   "cell_type": "code",
   "execution_count": 699,
   "id": "9cd92764",
   "metadata": {
    "ExecuteTime": {
     "end_time": "2021-08-19T15:23:46.471902Z",
     "start_time": "2021-08-19T15:23:46.453890Z"
    }
   },
   "outputs": [
    {
     "data": {
      "text/plain": [
       "array(['A1', 'A2', 'A3', 'A4', 'A5', 'B1', 'B2', 'B3', 'B4', 'B5', 'C1', 'C2', 'C3', 'C4', 'C5',\n",
       "       'D1', 'D2', 'D3', 'D4', 'D5', 'E1', 'E2', 'E3', 'E4', 'E5', 'F1', 'F2', 'F3', 'F4', 'F5',\n",
       "       'G1', 'G2', 'G3', 'G4', 'G5', 'H1'], dtype='<U69')"
      ]
     },
     "execution_count": 699,
     "metadata": {},
     "output_type": "execute_result"
    }
   ],
   "source": [
    "np.unique(data_strings[:, 3])"
   ]
  },
  {
   "cell_type": "code",
   "execution_count": 700,
   "id": "8d16a060",
   "metadata": {
    "ExecuteTime": {
     "end_time": "2021-08-19T15:23:47.089105Z",
     "start_time": "2021-08-19T15:23:47.061067Z"
    }
   },
   "outputs": [],
   "source": [
    "keys = list(np.unique(data_strings[:, 3]))\n",
    "values = list(range(1, np.unique(data_strings[:, 3]).shape[0]+1))\n",
    "dict_sub_grade = dict(zip(keys, values))"
   ]
  },
  {
   "cell_type": "code",
   "execution_count": 701,
   "id": "c7aebc85",
   "metadata": {
    "ExecuteTime": {
     "end_time": "2021-08-19T15:23:47.755172Z",
     "start_time": "2021-08-19T15:23:47.749167Z"
    }
   },
   "outputs": [
    {
     "data": {
      "text/plain": [
       "{'A1': 1,\n",
       " 'A2': 2,\n",
       " 'A3': 3,\n",
       " 'A4': 4,\n",
       " 'A5': 5,\n",
       " 'B1': 6,\n",
       " 'B2': 7,\n",
       " 'B3': 8,\n",
       " 'B4': 9,\n",
       " 'B5': 10,\n",
       " 'C1': 11,\n",
       " 'C2': 12,\n",
       " 'C3': 13,\n",
       " 'C4': 14,\n",
       " 'C5': 15,\n",
       " 'D1': 16,\n",
       " 'D2': 17,\n",
       " 'D3': 18,\n",
       " 'D4': 19,\n",
       " 'D5': 20,\n",
       " 'E1': 21,\n",
       " 'E2': 22,\n",
       " 'E3': 23,\n",
       " 'E4': 24,\n",
       " 'E5': 25,\n",
       " 'F1': 26,\n",
       " 'F2': 27,\n",
       " 'F3': 28,\n",
       " 'F4': 29,\n",
       " 'F5': 30,\n",
       " 'G1': 31,\n",
       " 'G2': 32,\n",
       " 'G3': 33,\n",
       " 'G4': 34,\n",
       " 'G5': 35,\n",
       " 'H1': 36}"
      ]
     },
     "execution_count": 701,
     "metadata": {},
     "output_type": "execute_result"
    }
   ],
   "source": [
    "dict_sub_grade"
   ]
  },
  {
   "cell_type": "code",
   "execution_count": 702,
   "id": "85a3d7c9",
   "metadata": {
    "ExecuteTime": {
     "end_time": "2021-08-19T15:23:48.521464Z",
     "start_time": "2021-08-19T15:23:48.316787Z"
    }
   },
   "outputs": [],
   "source": [
    "for i in np.unique(data_strings[:, 3]):\n",
    "    data_strings[:, 3] = np.where(data_strings[:, 3] == i,\n",
    "                                  dict_sub_grade[i],\n",
    "                                  data_strings[:, 3])"
   ]
  },
  {
   "cell_type": "code",
   "execution_count": 703,
   "id": "ea92a1b0",
   "metadata": {
    "ExecuteTime": {
     "end_time": "2021-08-19T15:23:54.909496Z",
     "start_time": "2021-08-19T15:23:54.889482Z"
    }
   },
   "outputs": [
    {
     "data": {
      "text/plain": [
       "array(['1', '10', '11', '12', '13', '14', '15', '16', '17', '18', '19', '2', '20', '21', '22',\n",
       "       '23', '24', '25', '26', '27', '28', '29', '3', '30', '31', '32', '33', '34', '35', '36',\n",
       "       '4', '5', '6', '7', '8', '9'], dtype='<U69')"
      ]
     },
     "execution_count": 703,
     "metadata": {},
     "output_type": "execute_result"
    }
   ],
   "source": [
    "np.unique(data_strings[:, 3])"
   ]
  },
  {
   "cell_type": "markdown",
   "id": "e078eaa9",
   "metadata": {
    "ExecuteTime": {
     "end_time": "2021-08-19T12:26:20.329141Z",
     "start_time": "2021-08-19T12:26:20.323139Z"
    }
   },
   "source": [
    "Verification Status"
   ]
  },
  {
   "cell_type": "code",
   "execution_count": 704,
   "id": "56ac4fa1",
   "metadata": {
    "ExecuteTime": {
     "end_time": "2021-08-19T15:23:56.178890Z",
     "start_time": "2021-08-19T15:23:56.173887Z"
    }
   },
   "outputs": [
    {
     "data": {
      "text/plain": [
       "array(['issue_date', 'loan_status', 'term_months', 'sub_grade', 'verification_status', 'url',\n",
       "       'addr_state'], dtype='<U19')"
      ]
     },
     "execution_count": 704,
     "metadata": {},
     "output_type": "execute_result"
    }
   ],
   "source": [
    "header_strings"
   ]
  },
  {
   "cell_type": "code",
   "execution_count": 705,
   "id": "4de3af97",
   "metadata": {
    "ExecuteTime": {
     "end_time": "2021-08-19T15:23:56.924750Z",
     "start_time": "2021-08-19T15:23:56.904739Z"
    }
   },
   "outputs": [
    {
     "data": {
      "text/plain": [
       "array(['', 'Not Verified', 'Source Verified', 'Verified'], dtype='<U69')"
      ]
     },
     "execution_count": 705,
     "metadata": {},
     "output_type": "execute_result"
    }
   ],
   "source": [
    "np.unique(data_strings[:, 4])\n",
    "# Here the data are catergorized as\n",
    "# good(Source Verified/Verified)<--->1\n",
    "# bad(''/Not Verified)<--->0"
   ]
  },
  {
   "cell_type": "code",
   "execution_count": 706,
   "id": "243404c2",
   "metadata": {
    "ExecuteTime": {
     "end_time": "2021-08-19T15:23:57.962197Z",
     "start_time": "2021-08-19T15:23:57.947188Z"
    }
   },
   "outputs": [],
   "source": [
    "data_strings[:, 4] = np.where((data_strings[:, 4] == '') | (\n",
    "    data_strings[:, 4] == 'Not Verified'), 0, 1)"
   ]
  },
  {
   "cell_type": "code",
   "execution_count": 707,
   "id": "21bfc44b",
   "metadata": {
    "ExecuteTime": {
     "end_time": "2021-08-19T15:23:58.695536Z",
     "start_time": "2021-08-19T15:23:58.675521Z"
    }
   },
   "outputs": [
    {
     "data": {
      "text/plain": [
       "array(['0', '1'], dtype='<U69')"
      ]
     },
     "execution_count": 707,
     "metadata": {},
     "output_type": "execute_result"
    }
   ],
   "source": [
    "np.unique(data_strings[:, 4])"
   ]
  },
  {
   "cell_type": "markdown",
   "id": "2575a729",
   "metadata": {},
   "source": [
    "URL"
   ]
  },
  {
   "cell_type": "code",
   "execution_count": 708,
   "id": "90ab8e00",
   "metadata": {
    "ExecuteTime": {
     "end_time": "2021-08-19T15:23:59.832559Z",
     "start_time": "2021-08-19T15:23:59.804540Z"
    }
   },
   "outputs": [
    {
     "data": {
      "text/plain": [
       "array(['https://www.lendingclub.com/browse/loanDetail.action?loan_id=12606806',\n",
       "       'https://www.lendingclub.com/browse/loanDetail.action?loan_id=13026045',\n",
       "       'https://www.lendingclub.com/browse/loanDetail.action?loan_id=1312426', ...,\n",
       "       'https://www.lendingclub.com/browse/loanDetail.action?loan_id=8138291',\n",
       "       'https://www.lendingclub.com/browse/loanDetail.action?loan_id=8214572',\n",
       "       'https://www.lendingclub.com/browse/loanDetail.action?loan_id=849994'], dtype='<U69')"
      ]
     },
     "execution_count": 708,
     "metadata": {},
     "output_type": "execute_result"
    }
   ],
   "source": [
    "np.unique(data_strings[:, 5])"
   ]
  },
  {
   "cell_type": "code",
   "execution_count": 709,
   "id": "b51db75c",
   "metadata": {
    "ExecuteTime": {
     "end_time": "2021-08-19T15:24:00.454588Z",
     "start_time": "2021-08-19T15:24:00.422566Z"
    }
   },
   "outputs": [],
   "source": [
    "data_strings[:, 5] = np.chararray.strip(\n",
    "    data_strings[:, 5], 'https://www.lendingclub.com/browse/loanDetail.action?loan_id=')"
   ]
  },
  {
   "cell_type": "code",
   "execution_count": 710,
   "id": "02167a21",
   "metadata": {
    "ExecuteTime": {
     "end_time": "2021-08-19T15:24:01.144517Z",
     "start_time": "2021-08-19T15:24:01.139514Z"
    }
   },
   "outputs": [
    {
     "data": {
      "text/plain": [
       "array(['id', 'issue_d', 'loan_amnt', 'loan_status', 'funded_amnt', 'term', 'int_rate',\n",
       "       'installment', 'grade', 'sub_grade', 'verification_status', 'url', 'addr_state',\n",
       "       'total_pymnt'], dtype='<U19')"
      ]
     },
     "execution_count": 710,
     "metadata": {},
     "output_type": "execute_result"
    }
   ],
   "source": [
    "header_full"
   ]
  },
  {
   "cell_type": "code",
   "execution_count": 711,
   "id": "a53181f1",
   "metadata": {
    "ExecuteTime": {
     "end_time": "2021-08-19T15:24:01.910421Z",
     "start_time": "2021-08-19T15:24:01.905418Z"
    }
   },
   "outputs": [
    {
     "data": {
      "text/plain": [
       "array([48010226, 57693261, 59432726, ..., 50415990, 46154151, 66055249])"
      ]
     },
     "execution_count": 711,
     "metadata": {},
     "output_type": "execute_result"
    }
   ],
   "source": [
    "data_numeric[:, 0].astype(dtype=int)"
   ]
  },
  {
   "cell_type": "code",
   "execution_count": 712,
   "id": "b23c5cfd",
   "metadata": {
    "ExecuteTime": {
     "end_time": "2021-08-19T15:24:02.532397Z",
     "start_time": "2021-08-19T15:24:02.519391Z"
    }
   },
   "outputs": [
    {
     "data": {
      "text/plain": [
       "array([48010226, 57693261, 59432726, ..., 50415990, 46154151, 66055249])"
      ]
     },
     "execution_count": 712,
     "metadata": {},
     "output_type": "execute_result"
    }
   ],
   "source": [
    "data_strings[:, 5].astype(dtype=int)"
   ]
  },
  {
   "cell_type": "code",
   "execution_count": 713,
   "id": "3a8ab7e4",
   "metadata": {
    "ExecuteTime": {
     "end_time": "2021-08-19T15:24:03.215523Z",
     "start_time": "2021-08-19T15:24:03.197510Z"
    }
   },
   "outputs": [
    {
     "data": {
      "text/plain": [
       "True"
      ]
     },
     "execution_count": 713,
     "metadata": {},
     "output_type": "execute_result"
    }
   ],
   "source": [
    "np.array_equal(data_numeric[:, 0].astype(dtype=int),\n",
    "               data_strings[:, 5].astype(dtype=int))"
   ]
  },
  {
   "cell_type": "code",
   "execution_count": 714,
   "id": "74b3d498",
   "metadata": {
    "ExecuteTime": {
     "end_time": "2021-08-19T15:24:15.914997Z",
     "start_time": "2021-08-19T15:24:15.872969Z"
    }
   },
   "outputs": [],
   "source": [
    "# Since the id and the url details are the same, we can drop the url column\n",
    "data_strings = np.delete(data_strings, 5, axis=1)\n",
    "header_strings = np.delete(header_strings, 5)"
   ]
  },
  {
   "cell_type": "code",
   "execution_count": 715,
   "id": "816daffb",
   "metadata": {
    "ExecuteTime": {
     "end_time": "2021-08-19T15:24:16.965292Z",
     "start_time": "2021-08-19T15:24:16.960289Z"
    }
   },
   "outputs": [
    {
     "data": {
      "text/plain": [
       "array(['CA', 'NY', 'PA', ..., 'CA', 'OH', 'IL'], dtype='<U69')"
      ]
     },
     "execution_count": 715,
     "metadata": {},
     "output_type": "execute_result"
    }
   ],
   "source": [
    "data_strings[:, 5]"
   ]
  },
  {
   "cell_type": "code",
   "execution_count": 716,
   "id": "61c08cb2",
   "metadata": {
    "ExecuteTime": {
     "end_time": "2021-08-19T15:24:17.980685Z",
     "start_time": "2021-08-19T15:24:17.975682Z"
    }
   },
   "outputs": [
    {
     "data": {
      "text/plain": [
       "array([48010226., 57693261., 59432726., ..., 50415990., 46154151., 66055249.])"
      ]
     },
     "execution_count": 716,
     "metadata": {},
     "output_type": "execute_result"
    }
   ],
   "source": [
    "data_numeric[:, 0]"
   ]
  },
  {
   "cell_type": "markdown",
   "id": "ad6e4d0c",
   "metadata": {},
   "source": [
    "State Addresses"
   ]
  },
  {
   "cell_type": "code",
   "execution_count": 717,
   "id": "12951a1d",
   "metadata": {
    "ExecuteTime": {
     "end_time": "2021-08-19T15:24:19.796371Z",
     "start_time": "2021-08-19T15:24:19.790368Z"
    }
   },
   "outputs": [
    {
     "data": {
      "text/plain": [
       "array(['issue_date', 'loan_status', 'term_months', 'sub_grade', 'verification_status',\n",
       "       'addr_state'], dtype='<U19')"
      ]
     },
     "execution_count": 717,
     "metadata": {},
     "output_type": "execute_result"
    }
   ],
   "source": [
    "header_strings"
   ]
  },
  {
   "cell_type": "code",
   "execution_count": 718,
   "id": "d95ed055",
   "metadata": {
    "ExecuteTime": {
     "end_time": "2021-08-19T15:24:20.628386Z",
     "start_time": "2021-08-19T15:24:20.624385Z"
    }
   },
   "outputs": [],
   "source": [
    "header_strings[5] = 'state_address'"
   ]
  },
  {
   "cell_type": "code",
   "execution_count": 719,
   "id": "baa37d4b",
   "metadata": {
    "ExecuteTime": {
     "end_time": "2021-08-19T15:24:21.324485Z",
     "start_time": "2021-08-19T15:24:21.302472Z"
    }
   },
   "outputs": [
    {
     "data": {
      "text/plain": [
       "50"
      ]
     },
     "execution_count": 719,
     "metadata": {},
     "output_type": "execute_result"
    }
   ],
   "source": [
    "np.unique(data_strings[:, 5]).size"
   ]
  },
  {
   "cell_type": "code",
   "execution_count": 720,
   "id": "e93315b6",
   "metadata": {
    "ExecuteTime": {
     "end_time": "2021-08-19T15:24:22.642519Z",
     "start_time": "2021-08-19T15:24:22.622504Z"
    }
   },
   "outputs": [
    {
     "data": {
      "text/plain": [
       "(array(['CA', 'NY', 'TX', 'FL', '', 'IL', 'NJ', 'GA', 'PA', 'OH', 'MI', 'NC', 'VA', 'MD', 'AZ',\n",
       "        'WA', 'MA', 'CO', 'MO', 'MN', 'IN', 'WI', 'CT', 'TN', 'NV', 'AL', 'LA', 'OR', 'SC', 'KY',\n",
       "        'KS', 'OK', 'UT', 'AR', 'MS', 'NH', 'NM', 'WV', 'HI', 'RI', 'MT', 'DE', 'DC', 'WY', 'AK',\n",
       "        'NE', 'SD', 'VT', 'ND', 'ME'], dtype='<U69'),\n",
       " array([1336,  777,  758,  690,  500,  389,  341,  321,  320,  312,  267,  261,  242,  222,  220,\n",
       "         216,  210,  201,  160,  156,  152,  148,  143,  143,  130,  119,  116,  108,  107,   84,\n",
       "          84,   83,   74,   74,   61,   58,   57,   49,   44,   40,   28,   27,   27,   27,   26,\n",
       "          25,   24,   17,   16,   10], dtype=int64))"
      ]
     },
     "execution_count": 720,
     "metadata": {},
     "output_type": "execute_result"
    }
   ],
   "source": [
    "states_name, states_count = np.unique(data_strings[:, 5], return_counts=True)\n",
    "# The missing state is 'Iowa'\n",
    "states_count_sorted = np.argsort(-states_count)\n",
    "states_name[states_count_sorted], states_count[states_count_sorted]\n",
    "# Most of the accounts come from the populated and wealthy states\n",
    "# Only 4 states have higher data than the missing value ''\n",
    "# hence there are more application with missing or unreported address than the next 45 states\n",
    "# We have very little data for too many states to examine each one individually\n",
    "# If we assign a unique value to each state,this will cause outliers to have high influence on the coefficient for less represented states\n",
    "# The more categories a variable has, the fewer data will be available for each one\n",
    "# Therefore the states with fewer applications will be more vulnerable to have the coefficents affected by outliers"
   ]
  },
  {
   "cell_type": "code",
   "execution_count": 721,
   "id": "1610002b",
   "metadata": {
    "ExecuteTime": {
     "end_time": "2021-08-19T15:24:23.318759Z",
     "start_time": "2021-08-19T15:24:23.309752Z"
    }
   },
   "outputs": [],
   "source": [
    "# instead of '',it is replaced with 0\n",
    "# accounts which cannot be attributed to a specific state wont be included in any region to avoid biasing with variable coefficient\n",
    "data_strings[:, 5] = np.where(data_strings[:, 5] == '',\n",
    "                              0,\n",
    "                              data_strings[:, 5])"
   ]
  },
  {
   "cell_type": "code",
   "execution_count": 722,
   "id": "d20b073c",
   "metadata": {
    "ExecuteTime": {
     "end_time": "2021-08-19T15:24:24.006493Z",
     "start_time": "2021-08-19T15:24:24.000488Z"
    }
   },
   "outputs": [],
   "source": [
    "# To solve the problem,the states are grouped based on certain common characterstics\n",
    "# Hence the states are grouped geographically\n",
    "states_west = np.array(['WA', 'OR', 'CA', 'NV', 'ID',\n",
    "                       'MT', 'WY', 'UT', 'CO', 'AZ', 'NM', 'HI', 'AK'])\n",
    "states_south = np.array(['TX', 'OK', 'AR', 'LA', 'MS', 'AL', 'TN',\n",
    "                        'KY', 'FL', 'GA', 'SC', 'NC', 'VA', 'WV', 'MD', 'DE', 'DC'])\n",
    "states_midwest = np.array(\n",
    "    ['ND', 'SD', 'NE', 'KS', 'MN', 'IA', 'MO', 'WI', 'IL', 'IN', 'MI', 'OH'])\n",
    "states_east = np.array(['PA', 'NY', 'NJ', 'CT', 'MA', 'VT', 'NH', 'ME', 'RI'])"
   ]
  },
  {
   "cell_type": "code",
   "execution_count": 723,
   "id": "d4d8d24a",
   "metadata": {
    "ExecuteTime": {
     "end_time": "2021-08-19T15:24:24.622443Z",
     "start_time": "2021-08-19T15:24:24.568405Z"
    }
   },
   "outputs": [],
   "source": [
    "data_strings[:, 5] = np.where(\n",
    "    np.isin(data_strings[:, 5], states_west), 1, data_strings[:, 5])\n",
    "data_strings[:, 5] = np.where(\n",
    "    np.isin(data_strings[:, 5], states_south), 2, data_strings[:, 5])\n",
    "data_strings[:, 5] = np.where(\n",
    "    np.isin(data_strings[:, 5], states_midwest), 3, data_strings[:, 5])\n",
    "data_strings[:, 5] = np.where(\n",
    "    np.isin(data_strings[:, 5], states_east), 4, data_strings[:, 5])"
   ]
  },
  {
   "cell_type": "code",
   "execution_count": 724,
   "id": "6f7f8b6a",
   "metadata": {
    "ExecuteTime": {
     "end_time": "2021-08-19T15:24:25.162700Z",
     "start_time": "2021-08-19T15:24:25.138665Z"
    }
   },
   "outputs": [
    {
     "data": {
      "text/plain": [
       "array(['0', '1', '2', '3', '4'], dtype='<U69')"
      ]
     },
     "execution_count": 724,
     "metadata": {},
     "output_type": "execute_result"
    }
   ],
   "source": [
    "np.unique(data_strings[:, 5])"
   ]
  },
  {
   "cell_type": "markdown",
   "id": "18cf9f8f",
   "metadata": {},
   "source": [
    "Converting to Numbers"
   ]
  },
  {
   "cell_type": "code",
   "execution_count": 725,
   "id": "432f3eca",
   "metadata": {
    "ExecuteTime": {
     "end_time": "2021-08-19T15:24:26.479038Z",
     "start_time": "2021-08-19T15:24:26.475037Z"
    }
   },
   "outputs": [
    {
     "data": {
      "text/plain": [
       "array([['5', '1', '36', '13', '1', '1'],\n",
       "       ['0', '1', '36', '5', '1', '4'],\n",
       "       ['9', '1', '36', '10', '1', '4'],\n",
       "       ...,\n",
       "       ['6', '1', '36', '5', '1', '1'],\n",
       "       ['4', '1', '36', '17', '1', '3'],\n",
       "       ['12', '1', '36', '4', '0', '3']], dtype='<U69')"
      ]
     },
     "execution_count": 725,
     "metadata": {},
     "output_type": "execute_result"
    }
   ],
   "source": [
    "data_strings"
   ]
  },
  {
   "cell_type": "code",
   "execution_count": 726,
   "id": "f02dae16",
   "metadata": {
    "ExecuteTime": {
     "end_time": "2021-08-19T15:24:27.136859Z",
     "start_time": "2021-08-19T15:24:27.090818Z"
    }
   },
   "outputs": [],
   "source": [
    "data_strings = data_strings.astype(dtype=int)"
   ]
  },
  {
   "cell_type": "code",
   "execution_count": 727,
   "id": "d0cad8f7",
   "metadata": {
    "ExecuteTime": {
     "end_time": "2021-08-19T15:24:27.731628Z",
     "start_time": "2021-08-19T15:24:27.726627Z"
    }
   },
   "outputs": [
    {
     "data": {
      "text/plain": [
       "array([[ 5,  1, 36, 13,  1,  1],\n",
       "       [ 0,  1, 36,  5,  1,  4],\n",
       "       [ 9,  1, 36, 10,  1,  4],\n",
       "       ...,\n",
       "       [ 6,  1, 36,  5,  1,  1],\n",
       "       [ 4,  1, 36, 17,  1,  3],\n",
       "       [12,  1, 36,  4,  0,  3]])"
      ]
     },
     "execution_count": 727,
     "metadata": {},
     "output_type": "execute_result"
    }
   ],
   "source": [
    "data_strings"
   ]
  },
  {
   "cell_type": "markdown",
   "id": "3e321d2a",
   "metadata": {},
   "source": [
    "Checkpoint"
   ]
  },
  {
   "cell_type": "code",
   "execution_count": 728,
   "id": "4b1d9eb5",
   "metadata": {
    "ExecuteTime": {
     "end_time": "2021-08-19T15:24:29.013443Z",
     "start_time": "2021-08-19T15:24:29.007441Z"
    }
   },
   "outputs": [],
   "source": [
    "checkpoint_strings = checkpoint(\n",
    "    \"checkpoint_strings\", header_strings, data_strings)"
   ]
  },
  {
   "cell_type": "code",
   "execution_count": 729,
   "id": "3a5b419c",
   "metadata": {
    "ExecuteTime": {
     "end_time": "2021-08-19T15:24:29.558459Z",
     "start_time": "2021-08-19T15:24:29.551456Z"
    }
   },
   "outputs": [
    {
     "data": {
      "text/plain": [
       "array(['issue_date', 'loan_status', 'term_months', 'sub_grade', 'verification_status',\n",
       "       'state_address'], dtype='<U19')"
      ]
     },
     "execution_count": 729,
     "metadata": {},
     "output_type": "execute_result"
    }
   ],
   "source": [
    "checkpoint_strings['header']"
   ]
  },
  {
   "cell_type": "code",
   "execution_count": 730,
   "id": "ded4e02d",
   "metadata": {
    "ExecuteTime": {
     "end_time": "2021-08-19T15:24:30.192259Z",
     "start_time": "2021-08-19T15:24:30.185252Z"
    }
   },
   "outputs": [
    {
     "data": {
      "text/plain": [
       "array([[ 5,  1, 36, 13,  1,  1],\n",
       "       [ 0,  1, 36,  5,  1,  4],\n",
       "       [ 9,  1, 36, 10,  1,  4],\n",
       "       ...,\n",
       "       [ 6,  1, 36,  5,  1,  1],\n",
       "       [ 4,  1, 36, 17,  1,  3],\n",
       "       [12,  1, 36,  4,  0,  3]])"
      ]
     },
     "execution_count": 730,
     "metadata": {},
     "output_type": "execute_result"
    }
   ],
   "source": [
    "checkpoint_strings['data']"
   ]
  },
  {
   "cell_type": "code",
   "execution_count": 731,
   "id": "230e8786",
   "metadata": {
    "ExecuteTime": {
     "end_time": "2021-08-19T15:24:30.766220Z",
     "start_time": "2021-08-19T15:24:30.759198Z"
    }
   },
   "outputs": [
    {
     "data": {
      "text/plain": [
       "True"
      ]
     },
     "execution_count": 731,
     "metadata": {},
     "output_type": "execute_result"
    }
   ],
   "source": [
    "np.array_equal(checkpoint_strings['data'], data_strings)"
   ]
  },
  {
   "cell_type": "markdown",
   "id": "10e83035",
   "metadata": {},
   "source": [
    "Manipulating Numeric Columns"
   ]
  },
  {
   "cell_type": "code",
   "execution_count": 732,
   "id": "32b7b23a",
   "metadata": {
    "ExecuteTime": {
     "end_time": "2021-08-19T15:24:32.087599Z",
     "start_time": "2021-08-19T15:24:32.082597Z"
    }
   },
   "outputs": [
    {
     "data": {
      "text/plain": [
       "array([[48010226.  ,    35000.  ,    35000.  ,       13.33,     1184.86,     9452.96],\n",
       "       [57693261.  ,    30000.  ,    30000.  , 68616520.  ,      938.57,     4679.7 ],\n",
       "       [59432726.  ,    15000.  ,    15000.  , 68616520.  ,      494.86,     1969.83],\n",
       "       ...,\n",
       "       [50415990.  ,    10000.  ,    10000.  , 68616520.  , 68616520.  ,     2185.64],\n",
       "       [46154151.  , 68616520.  ,    10000.  ,       16.55,      354.3 ,     3199.4 ],\n",
       "       [66055249.  ,    10000.  ,    10000.  , 68616520.  ,      309.97,      301.9 ]])"
      ]
     },
     "execution_count": 732,
     "metadata": {},
     "output_type": "execute_result"
    }
   ],
   "source": [
    "data_numeric"
   ]
  },
  {
   "cell_type": "code",
   "execution_count": 733,
   "id": "ebf4916a",
   "metadata": {
    "ExecuteTime": {
     "end_time": "2021-08-19T15:24:33.018907Z",
     "start_time": "2021-08-19T15:24:33.012925Z"
    }
   },
   "outputs": [
    {
     "data": {
      "text/plain": [
       "0"
      ]
     },
     "execution_count": 733,
     "metadata": {},
     "output_type": "execute_result"
    }
   ],
   "source": [
    "np.isnan(data_numeric).sum()\n",
    "# The fillers must be substituted the fillers with the worst possible values"
   ]
  },
  {
   "cell_type": "markdown",
   "id": "3a7c4a10",
   "metadata": {},
   "source": [
    "Substitute 'filler' values"
   ]
  },
  {
   "cell_type": "code",
   "execution_count": 734,
   "id": "52a32fc3",
   "metadata": {
    "ExecuteTime": {
     "end_time": "2021-08-19T15:24:34.615257Z",
     "start_time": "2021-08-19T15:24:34.610256Z"
    }
   },
   "outputs": [
    {
     "data": {
      "text/plain": [
       "array(['id', 'loan_amnt', 'funded_amnt', 'int_rate', 'installment', 'total_pymnt'], dtype='<U19')"
      ]
     },
     "execution_count": 734,
     "metadata": {},
     "output_type": "execute_result"
    }
   ],
   "source": [
    "header_numeric"
   ]
  },
  {
   "cell_type": "markdown",
   "id": "c8f182d9",
   "metadata": {},
   "source": [
    "ID"
   ]
  },
  {
   "cell_type": "code",
   "execution_count": 735,
   "id": "bdd2be1c",
   "metadata": {
    "ExecuteTime": {
     "end_time": "2021-08-19T15:24:38.857773Z",
     "start_time": "2021-08-19T15:24:38.852771Z"
    }
   },
   "outputs": [
    {
     "data": {
      "text/plain": [
       "68616520.0"
      ]
     },
     "execution_count": 735,
     "metadata": {},
     "output_type": "execute_result"
    }
   ],
   "source": [
    "temperory_fill"
   ]
  },
  {
   "cell_type": "code",
   "execution_count": 736,
   "id": "36592b93",
   "metadata": {
    "ExecuteTime": {
     "end_time": "2021-08-19T15:24:39.692921Z",
     "start_time": "2021-08-19T15:24:39.686916Z"
    }
   },
   "outputs": [
    {
     "data": {
      "text/plain": [
       "array([False, False, False, ..., False, False, False])"
      ]
     },
     "execution_count": 736,
     "metadata": {},
     "output_type": "execute_result"
    }
   ],
   "source": [
    "np.isin(data_numeric[:, 0], temperory_fill)"
   ]
  },
  {
   "cell_type": "code",
   "execution_count": 737,
   "id": "b2f2c4c2",
   "metadata": {
    "ExecuteTime": {
     "end_time": "2021-08-19T15:24:40.828869Z",
     "start_time": "2021-08-19T15:24:40.822864Z"
    }
   },
   "outputs": [
    {
     "data": {
      "text/plain": [
       "0"
      ]
     },
     "execution_count": 737,
     "metadata": {},
     "output_type": "execute_result"
    }
   ],
   "source": [
    "np.isin(data_numeric[:, 0], temperory_fill).sum()"
   ]
  },
  {
   "cell_type": "code",
   "execution_count": 738,
   "id": "c79547f0",
   "metadata": {
    "ExecuteTime": {
     "end_time": "2021-08-19T15:24:42.565768Z",
     "start_time": "2021-08-19T15:24:42.560767Z"
    }
   },
   "outputs": [
    {
     "data": {
      "text/plain": [
       "array(['id', 'loan_amnt', 'funded_amnt', 'int_rate', 'installment', 'total_pymnt'], dtype='<U19')"
      ]
     },
     "execution_count": 738,
     "metadata": {},
     "output_type": "execute_result"
    }
   ],
   "source": [
    "header_numeric\n",
    "# Here minimum value considered worst is the funded amt\n",
    "# switch out all the fillers for the minimum -->funded_amnt\n",
    "# switch out all the fillers for the maximum -->loan_amnt,int_rate,installment,total_pymnt"
   ]
  },
  {
   "cell_type": "markdown",
   "id": "acc7d32d",
   "metadata": {},
   "source": [
    "Temperory Stats"
   ]
  },
  {
   "cell_type": "code",
   "execution_count": 739,
   "id": "44ba625d",
   "metadata": {
    "ExecuteTime": {
     "end_time": "2021-08-19T15:24:44.161311Z",
     "start_time": "2021-08-19T15:24:44.155306Z"
    }
   },
   "outputs": [
    {
     "data": {
      "text/plain": [
       "array([[  373332.  ,     1000.  ,     1000.  ,        6.  ,       31.42,        0.  ],\n",
       "       [54015809.19,    15273.46,    15311.04,       16.62,      440.92,     3143.85],\n",
       "       [68616519.  ,    35000.  ,    35000.  ,       28.99,     1372.97,    41913.62]])"
      ]
     },
     "execution_count": 739,
     "metadata": {},
     "output_type": "execute_result"
    }
   ],
   "source": [
    "temperory_stats[:, column_numeric]\n",
    "# min\n",
    "# mean\n",
    "# max"
   ]
  },
  {
   "cell_type": "markdown",
   "id": "830dd5f2",
   "metadata": {},
   "source": [
    "Funded amount"
   ]
  },
  {
   "cell_type": "code",
   "execution_count": 740,
   "id": "b4db4285",
   "metadata": {
    "ExecuteTime": {
     "end_time": "2021-08-19T15:24:45.997764Z",
     "start_time": "2021-08-19T15:24:45.992751Z"
    }
   },
   "outputs": [
    {
     "data": {
      "text/plain": [
       "array([35000., 30000., 15000., ..., 10000., 10000., 10000.])"
      ]
     },
     "execution_count": 740,
     "metadata": {},
     "output_type": "execute_result"
    }
   ],
   "source": [
    "# Funded amount filler value must be equal to minimum\n",
    "data_numeric[:, 2]"
   ]
  },
  {
   "cell_type": "code",
   "execution_count": 741,
   "id": "a9c6c2cb",
   "metadata": {
    "ExecuteTime": {
     "end_time": "2021-08-19T15:24:46.912268Z",
     "start_time": "2021-08-19T15:24:46.905263Z"
    }
   },
   "outputs": [
    {
     "data": {
      "text/plain": [
       "array([35000., 30000., 15000., ..., 10000., 10000., 10000.])"
      ]
     },
     "execution_count": 741,
     "metadata": {},
     "output_type": "execute_result"
    }
   ],
   "source": [
    "data_numeric[:, 2] = np.where(data_numeric[:, 2] == temperory_fill,\n",
    "                              temperory_stats[0, column_numeric[2]],\n",
    "                              data_numeric[:, 2])\n",
    "data_numeric[:, 2]"
   ]
  },
  {
   "cell_type": "code",
   "execution_count": 742,
   "id": "4225df92",
   "metadata": {
    "ExecuteTime": {
     "end_time": "2021-08-19T15:24:47.976556Z",
     "start_time": "2021-08-19T15:24:47.970533Z"
    }
   },
   "outputs": [
    {
     "data": {
      "text/plain": [
       "6.0"
      ]
     },
     "execution_count": 742,
     "metadata": {},
     "output_type": "execute_result"
    }
   ],
   "source": [
    "temperory_stats[0, column_numeric[3]]"
   ]
  },
  {
   "cell_type": "markdown",
   "id": "11d65b9e",
   "metadata": {},
   "source": [
    "Loaded amount,Interest Rate,Total Payment,Installment"
   ]
  },
  {
   "cell_type": "code",
   "execution_count": 743,
   "id": "337fc605",
   "metadata": {
    "ExecuteTime": {
     "end_time": "2021-08-19T15:24:54.847591Z",
     "start_time": "2021-08-19T15:24:54.842587Z"
    }
   },
   "outputs": [
    {
     "data": {
      "text/plain": [
       "array(['id', 'loan_amnt', 'funded_amnt', 'int_rate', 'installment', 'total_pymnt'], dtype='<U19')"
      ]
     },
     "execution_count": 743,
     "metadata": {},
     "output_type": "execute_result"
    }
   ],
   "source": [
    "header_numeric"
   ]
  },
  {
   "cell_type": "code",
   "execution_count": 744,
   "id": "cc5e374a",
   "metadata": {
    "ExecuteTime": {
     "end_time": "2021-08-19T15:24:55.537968Z",
     "start_time": "2021-08-19T15:24:55.532966Z"
    }
   },
   "outputs": [],
   "source": [
    "# Funded amount filler value must be equal to maximum\n",
    "for i in [1, 3, 4, 5]:\n",
    "    data_numeric[:, i] = np.where(data_numeric[:, i] == temperory_fill,\n",
    "                                  temperory_stats[2, column_numeric[i]],\n",
    "                                  data_numeric[:, i])"
   ]
  },
  {
   "cell_type": "code",
   "execution_count": 745,
   "id": "93f86e15",
   "metadata": {
    "ExecuteTime": {
     "end_time": "2021-08-19T15:24:58.837082Z",
     "start_time": "2021-08-19T15:24:58.830079Z"
    }
   },
   "outputs": [
    {
     "data": {
      "text/plain": [
       "array([[48010226.  ,    35000.  ,    35000.  ,       13.33,     1184.86,     9452.96],\n",
       "       [57693261.  ,    30000.  ,    30000.  ,       28.99,      938.57,     4679.7 ],\n",
       "       [59432726.  ,    15000.  ,    15000.  ,       28.99,      494.86,     1969.83],\n",
       "       ...,\n",
       "       [50415990.  ,    10000.  ,    10000.  ,       28.99,     1372.97,     2185.64],\n",
       "       [46154151.  ,    35000.  ,    10000.  ,       16.55,      354.3 ,     3199.4 ],\n",
       "       [66055249.  ,    10000.  ,    10000.  ,       28.99,      309.97,      301.9 ]])"
      ]
     },
     "execution_count": 745,
     "metadata": {},
     "output_type": "execute_result"
    }
   ],
   "source": [
    "data_numeric"
   ]
  },
  {
   "cell_type": "markdown",
   "id": "9a99d5f9",
   "metadata": {},
   "source": [
    "Currency Change"
   ]
  },
  {
   "cell_type": "markdown",
   "id": "ea87909c",
   "metadata": {},
   "source": [
    "The Exchange Rate"
   ]
  },
  {
   "cell_type": "code",
   "execution_count": 746,
   "id": "c61880a1",
   "metadata": {
    "ExecuteTime": {
     "end_time": "2021-08-19T15:25:07.429978Z",
     "start_time": "2021-08-19T15:25:07.422975Z"
    }
   },
   "outputs": [
    {
     "data": {
      "text/plain": [
       "array([1.13, 1.12, 1.08, 1.11, 1.1 , 1.12, 1.09, 1.13, 1.13, 1.1 , 1.06, 1.09])"
      ]
     },
     "execution_count": 746,
     "metadata": {},
     "output_type": "execute_result"
    }
   ],
   "source": [
    "EUR_USD = np.genfromtxt('EUR-USD.csv', delimiter=',',\n",
    "                        autostrip=True, skip_header=1, usecols=3)\n",
    "EUR_USD"
   ]
  },
  {
   "cell_type": "code",
   "execution_count": 747,
   "id": "f29da6a1",
   "metadata": {
    "ExecuteTime": {
     "end_time": "2021-08-19T15:25:07.967871Z",
     "start_time": "2021-08-19T15:25:07.962886Z"
    }
   },
   "outputs": [
    {
     "data": {
      "text/plain": [
       "array([ 5,  0,  9, ...,  6,  4, 12])"
      ]
     },
     "execution_count": 747,
     "metadata": {},
     "output_type": "execute_result"
    }
   ],
   "source": [
    "data_strings[:, 0]  # months changed to numeric values"
   ]
  },
  {
   "cell_type": "code",
   "execution_count": 748,
   "id": "1f576ff8",
   "metadata": {
    "ExecuteTime": {
     "end_time": "2021-08-19T15:25:08.617452Z",
     "start_time": "2021-08-19T15:25:08.609446Z"
    }
   },
   "outputs": [
    {
     "data": {
      "text/plain": [
       "array([1.1 , 1.11, 1.13, ..., 1.12, 1.11, 1.09])"
      ]
     },
     "execution_count": 748,
     "metadata": {},
     "output_type": "execute_result"
    }
   ],
   "source": [
    "exchange_rate = data_strings[:, 0]\n",
    "for i in range(1, 13):\n",
    "    exchange_rate = np.where(exchange_rate == i,\n",
    "                             EUR_USD[i-1],\n",
    "                             exchange_rate)\n",
    "\n",
    "exchange_rate = np.where(exchange_rate == 0,  # when the issue date was not available,it was assigned with 0\n",
    "                         # it value is based on the mean of the exchange rates\n",
    "                         np.mean(EUR_USD),\n",
    "                         exchange_rate)\n",
    "\n",
    "exchange_rate"
   ]
  },
  {
   "cell_type": "code",
   "execution_count": 749,
   "id": "c8466a4a",
   "metadata": {
    "ExecuteTime": {
     "end_time": "2021-08-19T15:25:09.268014Z",
     "start_time": "2021-08-19T15:25:09.264011Z"
    }
   },
   "outputs": [
    {
     "data": {
      "text/plain": [
       "(10000,)"
      ]
     },
     "execution_count": 749,
     "metadata": {},
     "output_type": "execute_result"
    }
   ],
   "source": [
    "exchange_rate.shape"
   ]
  },
  {
   "cell_type": "code",
   "execution_count": 750,
   "id": "53a22e0b",
   "metadata": {
    "ExecuteTime": {
     "end_time": "2021-08-19T15:25:10.096753Z",
     "start_time": "2021-08-19T15:25:10.091750Z"
    }
   },
   "outputs": [
    {
     "data": {
      "text/plain": [
       "(10000, 6)"
      ]
     },
     "execution_count": 750,
     "metadata": {},
     "output_type": "execute_result"
    }
   ],
   "source": [
    "data_numeric.shape"
   ]
  },
  {
   "cell_type": "code",
   "execution_count": 751,
   "id": "b4e45762",
   "metadata": {
    "ExecuteTime": {
     "end_time": "2021-08-19T15:25:11.519365Z",
     "start_time": "2021-08-19T15:25:11.516359Z"
    }
   },
   "outputs": [],
   "source": [
    "exchange_rate = np.reshape(exchange_rate, (10000, 1))"
   ]
  },
  {
   "cell_type": "code",
   "execution_count": 752,
   "id": "c4f85b5f",
   "metadata": {
    "ExecuteTime": {
     "end_time": "2021-08-19T15:25:14.763071Z",
     "start_time": "2021-08-19T15:25:14.760069Z"
    }
   },
   "outputs": [],
   "source": [
    "data_numeric = np.hstack((data_numeric, exchange_rate))"
   ]
  },
  {
   "cell_type": "code",
   "execution_count": 753,
   "id": "2eb4c5a6",
   "metadata": {
    "ExecuteTime": {
     "end_time": "2021-08-19T15:25:15.812687Z",
     "start_time": "2021-08-19T15:25:15.807684Z"
    }
   },
   "outputs": [
    {
     "data": {
      "text/plain": [
       "array(['id', 'loan_amnt', 'funded_amnt', 'int_rate', 'installment', 'total_pymnt', 'exchange_rate'],\n",
       "      dtype='<U19')"
      ]
     },
     "execution_count": 753,
     "metadata": {},
     "output_type": "execute_result"
    }
   ],
   "source": [
    "header_numeric = np.concatenate((header_numeric,np.array(['exchange_rate'])))\n",
    "header_numeric"
   ]
  },
  {
   "cell_type": "code",
   "execution_count": 754,
   "id": "e18c2b49",
   "metadata": {
    "ExecuteTime": {
     "end_time": "2021-08-19T15:25:17.760034Z",
     "start_time": "2021-08-19T15:25:17.754029Z"
    }
   },
   "outputs": [
    {
     "data": {
      "text/plain": [
       "array(['id', 'loan_amnt', 'funded_amnt', 'int_rate', 'installment', 'total_pymnt', 'exchange_rate'],\n",
       "      dtype='<U19')"
      ]
     },
     "execution_count": 754,
     "metadata": {},
     "output_type": "execute_result"
    }
   ],
   "source": [
    "header_numeric"
   ]
  },
  {
   "cell_type": "code",
   "execution_count": 755,
   "id": "e0f091db",
   "metadata": {
    "ExecuteTime": {
     "end_time": "2021-08-19T15:25:20.880083Z",
     "start_time": "2021-08-19T15:25:20.874079Z"
    }
   },
   "outputs": [
    {
     "data": {
      "text/plain": [
       "array([[48010226.  ,    35000.  ,    35000.  , ...,     1184.86,     9452.96,        1.1 ],\n",
       "       [57693261.  ,    30000.  ,    30000.  , ...,      938.57,     4679.7 ,        1.11],\n",
       "       [59432726.  ,    15000.  ,    15000.  , ...,      494.86,     1969.83,        1.13],\n",
       "       ...,\n",
       "       [50415990.  ,    10000.  ,    10000.  , ...,     1372.97,     2185.64,        1.12],\n",
       "       [46154151.  ,    35000.  ,    10000.  , ...,      354.3 ,     3199.4 ,        1.11],\n",
       "       [66055249.  ,    10000.  ,    10000.  , ...,      309.97,      301.9 ,        1.09]])"
      ]
     },
     "execution_count": 755,
     "metadata": {},
     "output_type": "execute_result"
    }
   ],
   "source": [
    "data_numeric"
   ]
  },
  {
   "cell_type": "markdown",
   "id": "11f3d515",
   "metadata": {},
   "source": [
    "From USD to EUR"
   ]
  },
  {
   "cell_type": "code",
   "execution_count": 756,
   "id": "7b7e70de",
   "metadata": {
    "ExecuteTime": {
     "end_time": "2021-08-19T15:25:23.756969Z",
     "start_time": "2021-08-19T15:25:23.753967Z"
    }
   },
   "outputs": [],
   "source": [
    "columns_dollars = np.array([1,2,4,5])"
   ]
  },
  {
   "cell_type": "code",
   "execution_count": 758,
   "id": "5ce034d9",
   "metadata": {
    "ExecuteTime": {
     "end_time": "2021-08-19T15:27:19.413859Z",
     "start_time": "2021-08-19T15:27:19.406851Z"
    }
   },
   "outputs": [
    {
     "data": {
      "text/plain": [
       "array([[35000.  , 35000.  ,  1184.86,  9452.96],\n",
       "       [30000.  , 30000.  ,   938.57,  4679.7 ],\n",
       "       [15000.  , 15000.  ,   494.86,  1969.83],\n",
       "       ...,\n",
       "       [10000.  , 10000.  ,  1372.97,  2185.64],\n",
       "       [35000.  , 10000.  ,   354.3 ,  3199.4 ],\n",
       "       [10000.  , 10000.  ,   309.97,   301.9 ]])"
      ]
     },
     "execution_count": 758,
     "metadata": {},
     "output_type": "execute_result"
    }
   ],
   "source": [
    "data_numeric[:,(columns_dollars)]"
   ]
  },
  {
   "cell_type": "code",
   "execution_count": 760,
   "id": "8aaa3d83",
   "metadata": {
    "ExecuteTime": {
     "end_time": "2021-08-19T15:30:04.936330Z",
     "start_time": "2021-08-19T15:30:04.928324Z"
    }
   },
   "outputs": [],
   "source": [
    "for i in columns_dollars:\n",
    "    data_numeric = np.hstack((data_numeric,np.reshape(data_numeric[:,i]/data_numeric[:,6],(10000,1))))"
   ]
  },
  {
   "cell_type": "code",
   "execution_count": 762,
   "id": "3f4d99af",
   "metadata": {
    "ExecuteTime": {
     "end_time": "2021-08-19T15:31:26.091863Z",
     "start_time": "2021-08-19T15:31:26.085858Z"
    }
   },
   "outputs": [
    {
     "data": {
      "text/plain": [
       "(10000, 11)"
      ]
     },
     "execution_count": 762,
     "metadata": {},
     "output_type": "execute_result"
    }
   ],
   "source": [
    "data_numeric.shape"
   ]
  },
  {
   "cell_type": "code",
   "execution_count": 764,
   "id": "66a3e072",
   "metadata": {
    "ExecuteTime": {
     "end_time": "2021-08-19T15:31:50.995510Z",
     "start_time": "2021-08-19T15:31:50.989504Z"
    }
   },
   "outputs": [
    {
     "data": {
      "text/plain": [
       "array([[48010226.  ,    35000.  ,    35000.  , ...,    31933.3 ,     1081.04,     8624.69],\n",
       "       [57693261.  ,    30000.  ,    30000.  , ...,    27132.46,      848.86,     4232.39],\n",
       "       [59432726.  ,    15000.  ,    15000.  , ...,    13326.3 ,      439.64,     1750.04],\n",
       "       ...,\n",
       "       [50415990.  ,    10000.  ,    10000.  , ...,     8910.3 ,     1223.36,     1947.47],\n",
       "       [46154151.  ,    35000.  ,    10000.  , ...,     8997.4 ,      318.78,     2878.63],\n",
       "       [66055249.  ,    10000.  ,    10000.  , ...,     9145.8 ,      283.49,      276.11]])"
      ]
     },
     "execution_count": 764,
     "metadata": {},
     "output_type": "execute_result"
    }
   ],
   "source": [
    "data_numeric"
   ]
  },
  {
   "cell_type": "markdown",
   "id": "baed5ecf",
   "metadata": {},
   "source": [
    "Expanding the Header"
   ]
  },
  {
   "cell_type": "code",
   "execution_count": 765,
   "id": "778262b6",
   "metadata": {
    "ExecuteTime": {
     "end_time": "2021-08-19T15:34:04.580716Z",
     "start_time": "2021-08-19T15:34:04.576712Z"
    }
   },
   "outputs": [],
   "source": [
    "header_additional = np.array([column_name + '_EUR' for column_name in header_numeric[columns_dollars]])"
   ]
  },
  {
   "cell_type": "code",
   "execution_count": 766,
   "id": "217a3e2a",
   "metadata": {
    "ExecuteTime": {
     "end_time": "2021-08-19T15:34:36.884020Z",
     "start_time": "2021-08-19T15:34:36.879017Z"
    }
   },
   "outputs": [
    {
     "data": {
      "text/plain": [
       "array(['loan_amnt_EUR', 'funded_amnt_EUR', 'installment_EUR', 'total_pymnt_EUR'], dtype='<U15')"
      ]
     },
     "execution_count": 766,
     "metadata": {},
     "output_type": "execute_result"
    }
   ],
   "source": [
    "header_additional"
   ]
  },
  {
   "cell_type": "code",
   "execution_count": 767,
   "id": "672d6478",
   "metadata": {
    "ExecuteTime": {
     "end_time": "2021-08-19T15:35:33.191024Z",
     "start_time": "2021-08-19T15:35:33.187022Z"
    }
   },
   "outputs": [],
   "source": [
    "header_numeric = np.concatenate((header_numeric,header_additional))"
   ]
  },
  {
   "cell_type": "code",
   "execution_count": 769,
   "id": "ea72a183",
   "metadata": {
    "ExecuteTime": {
     "end_time": "2021-08-19T15:35:39.876712Z",
     "start_time": "2021-08-19T15:35:39.871709Z"
    }
   },
   "outputs": [
    {
     "data": {
      "text/plain": [
       "array(['id', 'loan_amnt', 'funded_amnt', 'int_rate', 'installment', 'total_pymnt', 'exchange_rate',\n",
       "       'loan_amnt_EUR', 'funded_amnt_EUR', 'installment_EUR', 'total_pymnt_EUR'], dtype='<U19')"
      ]
     },
     "execution_count": 769,
     "metadata": {},
     "output_type": "execute_result"
    }
   ],
   "source": [
    "header_numeric"
   ]
  },
  {
   "cell_type": "code",
   "execution_count": 770,
   "id": "938f788b",
   "metadata": {
    "ExecuteTime": {
     "end_time": "2021-08-19T15:36:59.935600Z",
     "start_time": "2021-08-19T15:36:59.931597Z"
    }
   },
   "outputs": [],
   "source": [
    "header_numeric[columns_dollars] = np.array([column_name + '_USD' for column_name in header_numeric[columns_dollars]])"
   ]
  },
  {
   "cell_type": "code",
   "execution_count": 771,
   "id": "86f4a7ee",
   "metadata": {
    "ExecuteTime": {
     "end_time": "2021-08-19T15:37:03.994766Z",
     "start_time": "2021-08-19T15:37:03.989742Z"
    }
   },
   "outputs": [
    {
     "data": {
      "text/plain": [
       "array(['id', 'loan_amnt_USD', 'funded_amnt_USD', 'int_rate', 'installment_USD', 'total_pymnt_USD',\n",
       "       'exchange_rate', 'loan_amnt_EUR', 'funded_amnt_EUR', 'installment_EUR', 'total_pymnt_EUR'],\n",
       "      dtype='<U19')"
      ]
     },
     "execution_count": 771,
     "metadata": {},
     "output_type": "execute_result"
    }
   ],
   "source": [
    "header_numeric"
   ]
  },
  {
   "cell_type": "code",
   "execution_count": 772,
   "id": "eb306bb5",
   "metadata": {
    "ExecuteTime": {
     "end_time": "2021-08-19T15:39:00.663572Z",
     "start_time": "2021-08-19T15:39:00.658570Z"
    }
   },
   "outputs": [],
   "source": [
    "columns_index_order = [0,1,7,2,8,3,4,9,5,10,6]"
   ]
  },
  {
   "cell_type": "code",
   "execution_count": 774,
   "id": "777c97dd",
   "metadata": {
    "ExecuteTime": {
     "end_time": "2021-08-19T15:39:35.899385Z",
     "start_time": "2021-08-19T15:39:35.895381Z"
    }
   },
   "outputs": [],
   "source": [
    "header_numeric = header_numeric[columns_index_order]"
   ]
  },
  {
   "cell_type": "code",
   "execution_count": 775,
   "id": "ab8f8e99",
   "metadata": {
    "ExecuteTime": {
     "end_time": "2021-08-19T15:39:53.360144Z",
     "start_time": "2021-08-19T15:39:53.354140Z"
    }
   },
   "outputs": [
    {
     "data": {
      "text/plain": [
       "array([[48010226.  ,    35000.  ,    35000.  , ...,    31933.3 ,     1081.04,     8624.69],\n",
       "       [57693261.  ,    30000.  ,    30000.  , ...,    27132.46,      848.86,     4232.39],\n",
       "       [59432726.  ,    15000.  ,    15000.  , ...,    13326.3 ,      439.64,     1750.04],\n",
       "       ...,\n",
       "       [50415990.  ,    10000.  ,    10000.  , ...,     8910.3 ,     1223.36,     1947.47],\n",
       "       [46154151.  ,    35000.  ,    10000.  , ...,     8997.4 ,      318.78,     2878.63],\n",
       "       [66055249.  ,    10000.  ,    10000.  , ...,     9145.8 ,      283.49,      276.11]])"
      ]
     },
     "execution_count": 775,
     "metadata": {},
     "output_type": "execute_result"
    }
   ],
   "source": [
    "data_numeric"
   ]
  },
  {
   "cell_type": "code",
   "execution_count": 777,
   "id": "8f250526",
   "metadata": {
    "ExecuteTime": {
     "end_time": "2021-08-19T15:40:39.523145Z",
     "start_time": "2021-08-19T15:40:39.518141Z"
    }
   },
   "outputs": [],
   "source": [
    "data_numeric = data_numeric[:,columns_index_order]"
   ]
  },
  {
   "cell_type": "markdown",
   "id": "f8105416",
   "metadata": {},
   "source": [
    "Interest Rate"
   ]
  },
  {
   "cell_type": "code",
   "execution_count": 779,
   "id": "62636807",
   "metadata": {
    "ExecuteTime": {
     "end_time": "2021-08-19T15:47:55.774292Z",
     "start_time": "2021-08-19T15:47:55.769291Z"
    }
   },
   "outputs": [
    {
     "data": {
      "text/plain": [
       "array(['id', 'loan_amnt_USD', 'loan_amnt_EUR', 'funded_amnt_USD', 'funded_amnt_EUR', 'int_rate',\n",
       "       'installment_USD', 'installment_EUR', 'total_pymnt_USD', 'total_pymnt_EUR', 'exchange_rate'],\n",
       "      dtype='<U19')"
      ]
     },
     "execution_count": 779,
     "metadata": {},
     "output_type": "execute_result"
    }
   ],
   "source": [
    "header_numeric"
   ]
  },
  {
   "cell_type": "code",
   "execution_count": 780,
   "id": "476d26f8",
   "metadata": {
    "ExecuteTime": {
     "end_time": "2021-08-19T15:48:13.934160Z",
     "start_time": "2021-08-19T15:48:13.929159Z"
    }
   },
   "outputs": [
    {
     "data": {
      "text/plain": [
       "array([13.33, 28.99, 28.99, ..., 28.99, 16.55, 28.99])"
      ]
     },
     "execution_count": 780,
     "metadata": {},
     "output_type": "execute_result"
    }
   ],
   "source": [
    "data_numeric[:,5]"
   ]
  },
  {
   "cell_type": "code",
   "execution_count": 782,
   "id": "64f0803f",
   "metadata": {
    "ExecuteTime": {
     "end_time": "2021-08-19T16:21:39.439082Z",
     "start_time": "2021-08-19T16:21:39.435080Z"
    }
   },
   "outputs": [],
   "source": [
    "data_numeric[:,5] = data_numeric[:,5]/100"
   ]
  },
  {
   "cell_type": "code",
   "execution_count": 783,
   "id": "143e7026",
   "metadata": {
    "ExecuteTime": {
     "end_time": "2021-08-19T16:21:48.860235Z",
     "start_time": "2021-08-19T16:21:48.855232Z"
    }
   },
   "outputs": [
    {
     "data": {
      "text/plain": [
       "array([0.13, 0.29, 0.29, ..., 0.29, 0.17, 0.29])"
      ]
     },
     "execution_count": 783,
     "metadata": {},
     "output_type": "execute_result"
    }
   ],
   "source": [
    "data_numeric[:,5]"
   ]
  },
  {
   "cell_type": "markdown",
   "id": "3bcaf497",
   "metadata": {},
   "source": [
    "Checkpoint"
   ]
  },
  {
   "cell_type": "code",
   "execution_count": 784,
   "id": "cf8bddb3",
   "metadata": {
    "ExecuteTime": {
     "end_time": "2021-08-19T16:37:05.894567Z",
     "start_time": "2021-08-19T16:37:05.885559Z"
    }
   },
   "outputs": [],
   "source": [
    "checkpoint_numeric = checkpoint('checkpoint_numeric',header_numeric,data_numeric)"
   ]
  },
  {
   "cell_type": "code",
   "execution_count": 786,
   "id": "5ef0c3d6",
   "metadata": {
    "ExecuteTime": {
     "end_time": "2021-08-19T16:38:02.695853Z",
     "start_time": "2021-08-19T16:38:02.684827Z"
    }
   },
   "outputs": [
    {
     "data": {
      "text/plain": [
       "(array(['id', 'loan_amnt_USD', 'loan_amnt_EUR', 'funded_amnt_USD', 'funded_amnt_EUR', 'int_rate',\n",
       "        'installment_USD', 'installment_EUR', 'total_pymnt_USD', 'total_pymnt_EUR', 'exchange_rate'],\n",
       "       dtype='<U19'),\n",
       " array([[48010226.  ,    35000.  ,    31933.3 , ...,     9452.96,     8624.69,        1.1 ],\n",
       "        [57693261.  ,    30000.  ,    27132.46, ...,     4679.7 ,     4232.39,        1.11],\n",
       "        [59432726.  ,    15000.  ,    13326.3 , ...,     1969.83,     1750.04,        1.13],\n",
       "        ...,\n",
       "        [50415990.  ,    10000.  ,     8910.3 , ...,     2185.64,     1947.47,        1.12],\n",
       "        [46154151.  ,    35000.  ,    31490.9 , ...,     3199.4 ,     2878.63,        1.11],\n",
       "        [66055249.  ,    10000.  ,     9145.8 , ...,      301.9 ,      276.11,        1.09]]))"
      ]
     },
     "execution_count": 786,
     "metadata": {},
     "output_type": "execute_result"
    }
   ],
   "source": [
    "checkpoint_numeric['header'],checkpoint_numeric['data']"
   ]
  },
  {
   "cell_type": "markdown",
   "id": "a7447a3b",
   "metadata": {},
   "source": [
    "Creating a \"Completed\" Dataset"
   ]
  },
  {
   "cell_type": "code",
   "execution_count": 787,
   "id": "f37bc31a",
   "metadata": {
    "ExecuteTime": {
     "end_time": "2021-08-19T16:39:44.770523Z",
     "start_time": "2021-08-19T16:39:44.762517Z"
    }
   },
   "outputs": [
    {
     "data": {
      "text/plain": [
       "(10000, 6)"
      ]
     },
     "execution_count": 787,
     "metadata": {},
     "output_type": "execute_result"
    }
   ],
   "source": [
    "checkpoint_strings['data'].shape"
   ]
  },
  {
   "cell_type": "code",
   "execution_count": 788,
   "id": "23baa7ab",
   "metadata": {
    "ExecuteTime": {
     "end_time": "2021-08-19T16:40:04.718647Z",
     "start_time": "2021-08-19T16:40:04.709643Z"
    }
   },
   "outputs": [
    {
     "data": {
      "text/plain": [
       "(10000, 11)"
      ]
     },
     "execution_count": 788,
     "metadata": {},
     "output_type": "execute_result"
    }
   ],
   "source": [
    "checkpoint_numeric['data'].shape"
   ]
  },
  {
   "cell_type": "code",
   "execution_count": 794,
   "id": "d035dcf9",
   "metadata": {
    "ExecuteTime": {
     "end_time": "2021-08-19T16:42:15.789967Z",
     "start_time": "2021-08-19T16:42:15.778959Z"
    }
   },
   "outputs": [],
   "source": [
    "cleaned_data = np.hstack((checkpoint_numeric['data'],checkpoint_strings['data']))"
   ]
  },
  {
   "cell_type": "code",
   "execution_count": 795,
   "id": "ba041a15",
   "metadata": {
    "ExecuteTime": {
     "end_time": "2021-08-19T16:42:16.338848Z",
     "start_time": "2021-08-19T16:42:16.333844Z"
    }
   },
   "outputs": [
    {
     "data": {
      "text/plain": [
       "array([[48010226.  ,    35000.  ,    31933.3 , ...,       13.  ,        1.  ,        1.  ],\n",
       "       [57693261.  ,    30000.  ,    27132.46, ...,        5.  ,        1.  ,        4.  ],\n",
       "       [59432726.  ,    15000.  ,    13326.3 , ...,       10.  ,        1.  ,        4.  ],\n",
       "       ...,\n",
       "       [50415990.  ,    10000.  ,     8910.3 , ...,        5.  ,        1.  ,        1.  ],\n",
       "       [46154151.  ,    35000.  ,    31490.9 , ...,       17.  ,        1.  ,        3.  ],\n",
       "       [66055249.  ,    10000.  ,     9145.8 , ...,        4.  ,        0.  ,        3.  ]])"
      ]
     },
     "execution_count": 795,
     "metadata": {},
     "output_type": "execute_result"
    }
   ],
   "source": [
    "cleaned_data"
   ]
  },
  {
   "cell_type": "code",
   "execution_count": 797,
   "id": "9c3ce93e",
   "metadata": {
    "ExecuteTime": {
     "end_time": "2021-08-19T16:43:09.977909Z",
     "start_time": "2021-08-19T16:43:09.970905Z"
    }
   },
   "outputs": [
    {
     "data": {
      "text/plain": [
       "0"
      ]
     },
     "execution_count": 797,
     "metadata": {},
     "output_type": "execute_result"
    }
   ],
   "source": [
    "np.isnan(cleaned_data).sum()"
   ]
  },
  {
   "cell_type": "code",
   "execution_count": 806,
   "id": "da45ab9c",
   "metadata": {
    "ExecuteTime": {
     "end_time": "2021-08-19T16:49:10.418209Z",
     "start_time": "2021-08-19T16:49:10.412205Z"
    }
   },
   "outputs": [],
   "source": [
    "header_full = np.concatenate((checkpoint_numeric['header'],checkpoint_strings['header']))"
   ]
  },
  {
   "cell_type": "code",
   "execution_count": 807,
   "id": "1767c221",
   "metadata": {
    "ExecuteTime": {
     "end_time": "2021-08-19T16:49:19.205778Z",
     "start_time": "2021-08-19T16:49:19.199775Z"
    }
   },
   "outputs": [
    {
     "data": {
      "text/plain": [
       "array(['id', 'loan_amnt_USD', 'loan_amnt_EUR', 'funded_amnt_USD', 'funded_amnt_EUR', 'int_rate',\n",
       "       'installment_USD', 'installment_EUR', 'total_pymnt_USD', 'total_pymnt_EUR', 'exchange_rate',\n",
       "       'issue_date', 'loan_status', 'term_months', 'sub_grade', 'verification_status',\n",
       "       'state_address'], dtype='<U19')"
      ]
     },
     "execution_count": 807,
     "metadata": {},
     "output_type": "execute_result"
    }
   ],
   "source": [
    "header_full"
   ]
  },
  {
   "cell_type": "markdown",
   "id": "aeca83f2",
   "metadata": {},
   "source": [
    "Sorting the new dataset"
   ]
  },
  {
   "cell_type": "code",
   "execution_count": 808,
   "id": "cbc30301",
   "metadata": {
    "ExecuteTime": {
     "end_time": "2021-08-19T16:49:28.795312Z",
     "start_time": "2021-08-19T16:49:28.789307Z"
    }
   },
   "outputs": [],
   "source": [
    "cleaned_data = cleaned_data[np.argsort(cleaned_data[:,0])]"
   ]
  },
  {
   "cell_type": "code",
   "execution_count": 809,
   "id": "6a295d81",
   "metadata": {
    "ExecuteTime": {
     "end_time": "2021-08-19T16:49:29.325524Z",
     "start_time": "2021-08-19T16:49:29.320521Z"
    }
   },
   "outputs": [
    {
     "data": {
      "text/plain": [
       "array([[  373332.  ,     9950.  ,     9038.08, ...,       21.  ,        0.  ,        1.  ],\n",
       "       [  575239.  ,    12000.  ,    10900.2 , ...,       25.  ,        1.  ,        2.  ],\n",
       "       [  707689.  ,    10000.  ,     8924.3 , ...,       13.  ,        1.  ,        0.  ],\n",
       "       ...,\n",
       "       [68614880.  ,     5600.  ,     5121.65, ...,        8.  ,        1.  ,        1.  ],\n",
       "       [68615915.  ,     4000.  ,     3658.32, ...,       10.  ,        1.  ,        2.  ],\n",
       "       [68616519.  ,    21600.  ,    19754.93, ...,        3.  ,        0.  ,        2.  ]])"
      ]
     },
     "execution_count": 809,
     "metadata": {},
     "output_type": "execute_result"
    }
   ],
   "source": [
    "cleaned_data"
   ]
  },
  {
   "cell_type": "code",
   "execution_count": 810,
   "id": "c451f355",
   "metadata": {
    "ExecuteTime": {
     "end_time": "2021-08-19T16:49:29.881868Z",
     "start_time": "2021-08-19T16:49:29.875842Z"
    }
   },
   "outputs": [
    {
     "data": {
      "text/plain": [
       "array([   0,    1,    2, ..., 9997, 9998, 9999], dtype=int64)"
      ]
     },
     "execution_count": 810,
     "metadata": {},
     "output_type": "execute_result"
    }
   ],
   "source": [
    "np.argsort(cleaned_data[:, 0])"
   ]
  },
  {
   "cell_type": "markdown",
   "id": "3ecdeec0",
   "metadata": {},
   "source": [
    "Storing the new dataset"
   ]
  },
  {
   "cell_type": "code",
   "execution_count": 812,
   "id": "f1d4a150",
   "metadata": {
    "ExecuteTime": {
     "end_time": "2021-08-19T16:50:15.373271Z",
     "start_time": "2021-08-19T16:50:15.217164Z"
    }
   },
   "outputs": [],
   "source": [
    "cleaned_data = np.vstack((header_full, cleaned_data))"
   ]
  },
  {
   "cell_type": "code",
   "execution_count": 814,
   "id": "5734312c",
   "metadata": {
    "ExecuteTime": {
     "end_time": "2021-08-19T16:51:54.728285Z",
     "start_time": "2021-08-19T16:51:54.521083Z"
    }
   },
   "outputs": [],
   "source": [
    "np.savetxt('data-preprocessed.csv', cleaned_data, fmt='%s', delimiter=',')"
   ]
  },
  {
   "cell_type": "code",
   "execution_count": null,
   "id": "81fcefb2",
   "metadata": {},
   "outputs": [],
   "source": []
  }
 ],
 "metadata": {
  "kernelspec": {
   "display_name": "Python 3 (ipykernel)",
   "language": "python",
   "name": "python3"
  },
  "language_info": {
   "codemirror_mode": {
    "name": "ipython",
    "version": 3
   },
   "file_extension": ".py",
   "mimetype": "text/x-python",
   "name": "python",
   "nbconvert_exporter": "python",
   "pygments_lexer": "ipython3",
   "version": "3.8.12"
  },
  "varInspector": {
   "cols": {
    "lenName": 16,
    "lenType": 16,
    "lenVar": 40
   },
   "kernels_config": {
    "python": {
     "delete_cmd_postfix": "",
     "delete_cmd_prefix": "del ",
     "library": "var_list.py",
     "varRefreshCmd": "print(var_dic_list())"
    },
    "r": {
     "delete_cmd_postfix": ") ",
     "delete_cmd_prefix": "rm(",
     "library": "var_list.r",
     "varRefreshCmd": "cat(var_dic_list()) "
    }
   },
   "types_to_exclude": [
    "module",
    "function",
    "builtin_function_or_method",
    "instance",
    "_Feature"
   ],
   "window_display": false
  }
 },
 "nbformat": 4,
 "nbformat_minor": 5
}
